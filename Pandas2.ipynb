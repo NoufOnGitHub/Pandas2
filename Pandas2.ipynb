{
 "cells": [
  {
   "cell_type": "code",
   "execution_count": 4,
   "id": "2d4fc82f-a118-41ba-9cfe-8fda2aae819c",
   "metadata": {},
   "outputs": [],
   "source": [
    "import pandas as pd"
   ]
  },
  {
   "cell_type": "code",
   "execution_count": 5,
   "id": "8127cab3-c5e0-4db0-96e6-af696c7396d8",
   "metadata": {},
   "outputs": [],
   "source": [
    "df = pd.read_excel('2014 and 2015 CSM dataset.xlsx')"
   ]
  },
  {
   "cell_type": "code",
   "execution_count": 6,
   "id": "81ce3034-0d98-415e-81e0-4d4cc8379a7f",
   "metadata": {},
   "outputs": [
    {
     "data": {
      "text/html": [
       "<div>\n",
       "<style scoped>\n",
       "    .dataframe tbody tr th:only-of-type {\n",
       "        vertical-align: middle;\n",
       "    }\n",
       "\n",
       "    .dataframe tbody tr th {\n",
       "        vertical-align: top;\n",
       "    }\n",
       "\n",
       "    .dataframe thead th {\n",
       "        text-align: right;\n",
       "    }\n",
       "</style>\n",
       "<table border=\"1\" class=\"dataframe\">\n",
       "  <thead>\n",
       "    <tr style=\"text-align: right;\">\n",
       "      <th></th>\n",
       "      <th>Movie</th>\n",
       "      <th>Year</th>\n",
       "      <th>Ratings</th>\n",
       "      <th>Genre</th>\n",
       "      <th>Gross</th>\n",
       "      <th>Budget</th>\n",
       "      <th>Screens</th>\n",
       "      <th>Sequel</th>\n",
       "      <th>Sentiment</th>\n",
       "      <th>Views</th>\n",
       "      <th>Likes</th>\n",
       "      <th>Dislikes</th>\n",
       "      <th>Comments</th>\n",
       "      <th>Aggregate Followers</th>\n",
       "    </tr>\n",
       "  </thead>\n",
       "  <tbody>\n",
       "    <tr>\n",
       "      <th>0</th>\n",
       "      <td>13 Sins</td>\n",
       "      <td>2014</td>\n",
       "      <td>6.3</td>\n",
       "      <td>8</td>\n",
       "      <td>9130</td>\n",
       "      <td>4000000.0</td>\n",
       "      <td>45.0</td>\n",
       "      <td>1</td>\n",
       "      <td>0</td>\n",
       "      <td>3280543</td>\n",
       "      <td>4632</td>\n",
       "      <td>425</td>\n",
       "      <td>636</td>\n",
       "      <td>1120000.0</td>\n",
       "    </tr>\n",
       "    <tr>\n",
       "      <th>1</th>\n",
       "      <td>22 Jump Street</td>\n",
       "      <td>2014</td>\n",
       "      <td>7.1</td>\n",
       "      <td>1</td>\n",
       "      <td>192000000</td>\n",
       "      <td>50000000.0</td>\n",
       "      <td>3306.0</td>\n",
       "      <td>2</td>\n",
       "      <td>2</td>\n",
       "      <td>583289</td>\n",
       "      <td>3465</td>\n",
       "      <td>61</td>\n",
       "      <td>186</td>\n",
       "      <td>12350000.0</td>\n",
       "    </tr>\n",
       "    <tr>\n",
       "      <th>2</th>\n",
       "      <td>3 Days to Kill</td>\n",
       "      <td>2014</td>\n",
       "      <td>6.2</td>\n",
       "      <td>1</td>\n",
       "      <td>30700000</td>\n",
       "      <td>28000000.0</td>\n",
       "      <td>2872.0</td>\n",
       "      <td>1</td>\n",
       "      <td>0</td>\n",
       "      <td>304861</td>\n",
       "      <td>328</td>\n",
       "      <td>34</td>\n",
       "      <td>47</td>\n",
       "      <td>483000.0</td>\n",
       "    </tr>\n",
       "    <tr>\n",
       "      <th>3</th>\n",
       "      <td>300: Rise of an Empire</td>\n",
       "      <td>2014</td>\n",
       "      <td>6.3</td>\n",
       "      <td>1</td>\n",
       "      <td>106000000</td>\n",
       "      <td>110000000.0</td>\n",
       "      <td>3470.0</td>\n",
       "      <td>2</td>\n",
       "      <td>0</td>\n",
       "      <td>452917</td>\n",
       "      <td>2429</td>\n",
       "      <td>132</td>\n",
       "      <td>590</td>\n",
       "      <td>568000.0</td>\n",
       "    </tr>\n",
       "    <tr>\n",
       "      <th>4</th>\n",
       "      <td>A Haunted House 2</td>\n",
       "      <td>2014</td>\n",
       "      <td>4.7</td>\n",
       "      <td>8</td>\n",
       "      <td>17300000</td>\n",
       "      <td>3500000.0</td>\n",
       "      <td>2310.0</td>\n",
       "      <td>2</td>\n",
       "      <td>0</td>\n",
       "      <td>3145573</td>\n",
       "      <td>12163</td>\n",
       "      <td>610</td>\n",
       "      <td>1082</td>\n",
       "      <td>1923800.0</td>\n",
       "    </tr>\n",
       "    <tr>\n",
       "      <th>...</th>\n",
       "      <td>...</td>\n",
       "      <td>...</td>\n",
       "      <td>...</td>\n",
       "      <td>...</td>\n",
       "      <td>...</td>\n",
       "      <td>...</td>\n",
       "      <td>...</td>\n",
       "      <td>...</td>\n",
       "      <td>...</td>\n",
       "      <td>...</td>\n",
       "      <td>...</td>\n",
       "      <td>...</td>\n",
       "      <td>...</td>\n",
       "      <td>...</td>\n",
       "    </tr>\n",
       "    <tr>\n",
       "      <th>226</th>\n",
       "      <td>Child 44</td>\n",
       "      <td>2015</td>\n",
       "      <td>6.4</td>\n",
       "      <td>4</td>\n",
       "      <td>1210000</td>\n",
       "      <td>50000000.0</td>\n",
       "      <td>66.0</td>\n",
       "      <td>1</td>\n",
       "      <td>4</td>\n",
       "      <td>3701061</td>\n",
       "      <td>9325</td>\n",
       "      <td>641</td>\n",
       "      <td>1859</td>\n",
       "      <td>NaN</td>\n",
       "    </tr>\n",
       "    <tr>\n",
       "      <th>227</th>\n",
       "      <td>Aloha</td>\n",
       "      <td>2015</td>\n",
       "      <td>5.5</td>\n",
       "      <td>15</td>\n",
       "      <td>21000000</td>\n",
       "      <td>37000000.0</td>\n",
       "      <td>2815.0</td>\n",
       "      <td>1</td>\n",
       "      <td>13</td>\n",
       "      <td>7119456</td>\n",
       "      <td>18803</td>\n",
       "      <td>1128</td>\n",
       "      <td>2290</td>\n",
       "      <td>NaN</td>\n",
       "    </tr>\n",
       "    <tr>\n",
       "      <th>228</th>\n",
       "      <td>Unfinished Business</td>\n",
       "      <td>2015</td>\n",
       "      <td>5.4</td>\n",
       "      <td>8</td>\n",
       "      <td>10200000</td>\n",
       "      <td>35000000.0</td>\n",
       "      <td>2777.0</td>\n",
       "      <td>1</td>\n",
       "      <td>7</td>\n",
       "      <td>3450614</td>\n",
       "      <td>6823</td>\n",
       "      <td>325</td>\n",
       "      <td>409</td>\n",
       "      <td>NaN</td>\n",
       "    </tr>\n",
       "    <tr>\n",
       "      <th>229</th>\n",
       "      <td>War Room</td>\n",
       "      <td>2015</td>\n",
       "      <td>5.4</td>\n",
       "      <td>1</td>\n",
       "      <td>12300000</td>\n",
       "      <td>3000000.0</td>\n",
       "      <td>NaN</td>\n",
       "      <td>1</td>\n",
       "      <td>10</td>\n",
       "      <td>66872</td>\n",
       "      <td>400</td>\n",
       "      <td>67</td>\n",
       "      <td>201</td>\n",
       "      <td>NaN</td>\n",
       "    </tr>\n",
       "    <tr>\n",
       "      <th>230</th>\n",
       "      <td>The Gallows</td>\n",
       "      <td>2015</td>\n",
       "      <td>4.4</td>\n",
       "      <td>15</td>\n",
       "      <td>22600000</td>\n",
       "      <td>100000.0</td>\n",
       "      <td>2720.0</td>\n",
       "      <td>1</td>\n",
       "      <td>-5</td>\n",
       "      <td>659772</td>\n",
       "      <td>2841</td>\n",
       "      <td>431</td>\n",
       "      <td>606</td>\n",
       "      <td>NaN</td>\n",
       "    </tr>\n",
       "  </tbody>\n",
       "</table>\n",
       "<p>231 rows × 14 columns</p>\n",
       "</div>"
      ],
      "text/plain": [
       "                      Movie  Year  Ratings  Genre      Gross       Budget  \\\n",
       "0                   13 Sins  2014      6.3      8       9130    4000000.0   \n",
       "1            22 Jump Street  2014      7.1      1  192000000   50000000.0   \n",
       "2            3 Days to Kill  2014      6.2      1   30700000   28000000.0   \n",
       "3    300: Rise of an Empire  2014      6.3      1  106000000  110000000.0   \n",
       "4         A Haunted House 2  2014      4.7      8   17300000    3500000.0   \n",
       "..                      ...   ...      ...    ...        ...          ...   \n",
       "226                Child 44  2015      6.4      4    1210000   50000000.0   \n",
       "227                   Aloha  2015      5.5     15   21000000   37000000.0   \n",
       "228     Unfinished Business  2015      5.4      8   10200000   35000000.0   \n",
       "229                War Room  2015      5.4      1   12300000    3000000.0   \n",
       "230             The Gallows  2015      4.4     15   22600000     100000.0   \n",
       "\n",
       "     Screens  Sequel  Sentiment    Views  Likes  Dislikes  Comments  \\\n",
       "0       45.0       1          0  3280543   4632       425       636   \n",
       "1     3306.0       2          2   583289   3465        61       186   \n",
       "2     2872.0       1          0   304861    328        34        47   \n",
       "3     3470.0       2          0   452917   2429       132       590   \n",
       "4     2310.0       2          0  3145573  12163       610      1082   \n",
       "..       ...     ...        ...      ...    ...       ...       ...   \n",
       "226     66.0       1          4  3701061   9325       641      1859   \n",
       "227   2815.0       1         13  7119456  18803      1128      2290   \n",
       "228   2777.0       1          7  3450614   6823       325       409   \n",
       "229      NaN       1         10    66872    400        67       201   \n",
       "230   2720.0       1         -5   659772   2841       431       606   \n",
       "\n",
       "     Aggregate Followers  \n",
       "0              1120000.0  \n",
       "1             12350000.0  \n",
       "2               483000.0  \n",
       "3               568000.0  \n",
       "4              1923800.0  \n",
       "..                   ...  \n",
       "226                  NaN  \n",
       "227                  NaN  \n",
       "228                  NaN  \n",
       "229                  NaN  \n",
       "230                  NaN  \n",
       "\n",
       "[231 rows x 14 columns]"
      ]
     },
     "execution_count": 6,
     "metadata": {},
     "output_type": "execute_result"
    }
   ],
   "source": [
    "df"
   ]
  },
  {
   "cell_type": "markdown",
   "id": "d24ac24a-98fe-48ea-a732-75e47c586d6d",
   "metadata": {},
   "source": [
    "(1) Look at the DataFrame shape"
   ]
  },
  {
   "cell_type": "code",
   "execution_count": 7,
   "id": "fc5de655-127e-472d-b186-9405d10b9135",
   "metadata": {},
   "outputs": [
    {
     "name": "stdout",
     "output_type": "stream",
     "text": [
      "(231, 14)\n"
     ]
    }
   ],
   "source": [
    "print(df.shape)"
   ]
  },
  {
   "cell_type": "markdown",
   "id": "a5816977-5aa3-4d8e-a443-b57e7a74fb4f",
   "metadata": {},
   "source": [
    "(2) head"
   ]
  },
  {
   "cell_type": "code",
   "execution_count": 8,
   "id": "5515e5e8-805a-49bf-b4ff-4d6cdd26ae7c",
   "metadata": {},
   "outputs": [
    {
     "data": {
      "text/html": [
       "<div>\n",
       "<style scoped>\n",
       "    .dataframe tbody tr th:only-of-type {\n",
       "        vertical-align: middle;\n",
       "    }\n",
       "\n",
       "    .dataframe tbody tr th {\n",
       "        vertical-align: top;\n",
       "    }\n",
       "\n",
       "    .dataframe thead th {\n",
       "        text-align: right;\n",
       "    }\n",
       "</style>\n",
       "<table border=\"1\" class=\"dataframe\">\n",
       "  <thead>\n",
       "    <tr style=\"text-align: right;\">\n",
       "      <th></th>\n",
       "      <th>Movie</th>\n",
       "      <th>Year</th>\n",
       "      <th>Ratings</th>\n",
       "      <th>Genre</th>\n",
       "      <th>Gross</th>\n",
       "      <th>Budget</th>\n",
       "      <th>Screens</th>\n",
       "      <th>Sequel</th>\n",
       "      <th>Sentiment</th>\n",
       "      <th>Views</th>\n",
       "      <th>Likes</th>\n",
       "      <th>Dislikes</th>\n",
       "      <th>Comments</th>\n",
       "      <th>Aggregate Followers</th>\n",
       "    </tr>\n",
       "  </thead>\n",
       "  <tbody>\n",
       "    <tr>\n",
       "      <th>0</th>\n",
       "      <td>13 Sins</td>\n",
       "      <td>2014</td>\n",
       "      <td>6.3</td>\n",
       "      <td>8</td>\n",
       "      <td>9130</td>\n",
       "      <td>4000000.0</td>\n",
       "      <td>45.0</td>\n",
       "      <td>1</td>\n",
       "      <td>0</td>\n",
       "      <td>3280543</td>\n",
       "      <td>4632</td>\n",
       "      <td>425</td>\n",
       "      <td>636</td>\n",
       "      <td>1120000.0</td>\n",
       "    </tr>\n",
       "    <tr>\n",
       "      <th>1</th>\n",
       "      <td>22 Jump Street</td>\n",
       "      <td>2014</td>\n",
       "      <td>7.1</td>\n",
       "      <td>1</td>\n",
       "      <td>192000000</td>\n",
       "      <td>50000000.0</td>\n",
       "      <td>3306.0</td>\n",
       "      <td>2</td>\n",
       "      <td>2</td>\n",
       "      <td>583289</td>\n",
       "      <td>3465</td>\n",
       "      <td>61</td>\n",
       "      <td>186</td>\n",
       "      <td>12350000.0</td>\n",
       "    </tr>\n",
       "    <tr>\n",
       "      <th>2</th>\n",
       "      <td>3 Days to Kill</td>\n",
       "      <td>2014</td>\n",
       "      <td>6.2</td>\n",
       "      <td>1</td>\n",
       "      <td>30700000</td>\n",
       "      <td>28000000.0</td>\n",
       "      <td>2872.0</td>\n",
       "      <td>1</td>\n",
       "      <td>0</td>\n",
       "      <td>304861</td>\n",
       "      <td>328</td>\n",
       "      <td>34</td>\n",
       "      <td>47</td>\n",
       "      <td>483000.0</td>\n",
       "    </tr>\n",
       "    <tr>\n",
       "      <th>3</th>\n",
       "      <td>300: Rise of an Empire</td>\n",
       "      <td>2014</td>\n",
       "      <td>6.3</td>\n",
       "      <td>1</td>\n",
       "      <td>106000000</td>\n",
       "      <td>110000000.0</td>\n",
       "      <td>3470.0</td>\n",
       "      <td>2</td>\n",
       "      <td>0</td>\n",
       "      <td>452917</td>\n",
       "      <td>2429</td>\n",
       "      <td>132</td>\n",
       "      <td>590</td>\n",
       "      <td>568000.0</td>\n",
       "    </tr>\n",
       "    <tr>\n",
       "      <th>4</th>\n",
       "      <td>A Haunted House 2</td>\n",
       "      <td>2014</td>\n",
       "      <td>4.7</td>\n",
       "      <td>8</td>\n",
       "      <td>17300000</td>\n",
       "      <td>3500000.0</td>\n",
       "      <td>2310.0</td>\n",
       "      <td>2</td>\n",
       "      <td>0</td>\n",
       "      <td>3145573</td>\n",
       "      <td>12163</td>\n",
       "      <td>610</td>\n",
       "      <td>1082</td>\n",
       "      <td>1923800.0</td>\n",
       "    </tr>\n",
       "  </tbody>\n",
       "</table>\n",
       "</div>"
      ],
      "text/plain": [
       "                    Movie  Year  Ratings  Genre      Gross       Budget  \\\n",
       "0                 13 Sins  2014      6.3      8       9130    4000000.0   \n",
       "1          22 Jump Street  2014      7.1      1  192000000   50000000.0   \n",
       "2          3 Days to Kill  2014      6.2      1   30700000   28000000.0   \n",
       "3  300: Rise of an Empire  2014      6.3      1  106000000  110000000.0   \n",
       "4       A Haunted House 2  2014      4.7      8   17300000    3500000.0   \n",
       "\n",
       "   Screens  Sequel  Sentiment    Views  Likes  Dislikes  Comments  \\\n",
       "0     45.0       1          0  3280543   4632       425       636   \n",
       "1   3306.0       2          2   583289   3465        61       186   \n",
       "2   2872.0       1          0   304861    328        34        47   \n",
       "3   3470.0       2          0   452917   2429       132       590   \n",
       "4   2310.0       2          0  3145573  12163       610      1082   \n",
       "\n",
       "   Aggregate Followers  \n",
       "0            1120000.0  \n",
       "1           12350000.0  \n",
       "2             483000.0  \n",
       "3             568000.0  \n",
       "4            1923800.0  "
      ]
     },
     "execution_count": 8,
     "metadata": {},
     "output_type": "execute_result"
    }
   ],
   "source": [
    "df.head()"
   ]
  },
  {
   "cell_type": "markdown",
   "id": "2a4f3281-509d-459d-b239-1a8128327a35",
   "metadata": {},
   "source": [
    "(3) Tail"
   ]
  },
  {
   "cell_type": "code",
   "execution_count": 9,
   "id": "0276af5a-574c-41d1-9f8c-9caaa02c904c",
   "metadata": {},
   "outputs": [
    {
     "data": {
      "text/html": [
       "<div>\n",
       "<style scoped>\n",
       "    .dataframe tbody tr th:only-of-type {\n",
       "        vertical-align: middle;\n",
       "    }\n",
       "\n",
       "    .dataframe tbody tr th {\n",
       "        vertical-align: top;\n",
       "    }\n",
       "\n",
       "    .dataframe thead th {\n",
       "        text-align: right;\n",
       "    }\n",
       "</style>\n",
       "<table border=\"1\" class=\"dataframe\">\n",
       "  <thead>\n",
       "    <tr style=\"text-align: right;\">\n",
       "      <th></th>\n",
       "      <th>Movie</th>\n",
       "      <th>Year</th>\n",
       "      <th>Ratings</th>\n",
       "      <th>Genre</th>\n",
       "      <th>Gross</th>\n",
       "      <th>Budget</th>\n",
       "      <th>Screens</th>\n",
       "      <th>Sequel</th>\n",
       "      <th>Sentiment</th>\n",
       "      <th>Views</th>\n",
       "      <th>Likes</th>\n",
       "      <th>Dislikes</th>\n",
       "      <th>Comments</th>\n",
       "      <th>Aggregate Followers</th>\n",
       "    </tr>\n",
       "  </thead>\n",
       "  <tbody>\n",
       "    <tr>\n",
       "      <th>226</th>\n",
       "      <td>Child 44</td>\n",
       "      <td>2015</td>\n",
       "      <td>6.4</td>\n",
       "      <td>4</td>\n",
       "      <td>1210000</td>\n",
       "      <td>50000000.0</td>\n",
       "      <td>66.0</td>\n",
       "      <td>1</td>\n",
       "      <td>4</td>\n",
       "      <td>3701061</td>\n",
       "      <td>9325</td>\n",
       "      <td>641</td>\n",
       "      <td>1859</td>\n",
       "      <td>NaN</td>\n",
       "    </tr>\n",
       "    <tr>\n",
       "      <th>227</th>\n",
       "      <td>Aloha</td>\n",
       "      <td>2015</td>\n",
       "      <td>5.5</td>\n",
       "      <td>15</td>\n",
       "      <td>21000000</td>\n",
       "      <td>37000000.0</td>\n",
       "      <td>2815.0</td>\n",
       "      <td>1</td>\n",
       "      <td>13</td>\n",
       "      <td>7119456</td>\n",
       "      <td>18803</td>\n",
       "      <td>1128</td>\n",
       "      <td>2290</td>\n",
       "      <td>NaN</td>\n",
       "    </tr>\n",
       "    <tr>\n",
       "      <th>228</th>\n",
       "      <td>Unfinished Business</td>\n",
       "      <td>2015</td>\n",
       "      <td>5.4</td>\n",
       "      <td>8</td>\n",
       "      <td>10200000</td>\n",
       "      <td>35000000.0</td>\n",
       "      <td>2777.0</td>\n",
       "      <td>1</td>\n",
       "      <td>7</td>\n",
       "      <td>3450614</td>\n",
       "      <td>6823</td>\n",
       "      <td>325</td>\n",
       "      <td>409</td>\n",
       "      <td>NaN</td>\n",
       "    </tr>\n",
       "    <tr>\n",
       "      <th>229</th>\n",
       "      <td>War Room</td>\n",
       "      <td>2015</td>\n",
       "      <td>5.4</td>\n",
       "      <td>1</td>\n",
       "      <td>12300000</td>\n",
       "      <td>3000000.0</td>\n",
       "      <td>NaN</td>\n",
       "      <td>1</td>\n",
       "      <td>10</td>\n",
       "      <td>66872</td>\n",
       "      <td>400</td>\n",
       "      <td>67</td>\n",
       "      <td>201</td>\n",
       "      <td>NaN</td>\n",
       "    </tr>\n",
       "    <tr>\n",
       "      <th>230</th>\n",
       "      <td>The Gallows</td>\n",
       "      <td>2015</td>\n",
       "      <td>4.4</td>\n",
       "      <td>15</td>\n",
       "      <td>22600000</td>\n",
       "      <td>100000.0</td>\n",
       "      <td>2720.0</td>\n",
       "      <td>1</td>\n",
       "      <td>-5</td>\n",
       "      <td>659772</td>\n",
       "      <td>2841</td>\n",
       "      <td>431</td>\n",
       "      <td>606</td>\n",
       "      <td>NaN</td>\n",
       "    </tr>\n",
       "  </tbody>\n",
       "</table>\n",
       "</div>"
      ],
      "text/plain": [
       "                   Movie  Year  Ratings  Genre     Gross      Budget  Screens  \\\n",
       "226             Child 44  2015      6.4      4   1210000  50000000.0     66.0   \n",
       "227                Aloha  2015      5.5     15  21000000  37000000.0   2815.0   \n",
       "228  Unfinished Business  2015      5.4      8  10200000  35000000.0   2777.0   \n",
       "229             War Room  2015      5.4      1  12300000   3000000.0      NaN   \n",
       "230          The Gallows  2015      4.4     15  22600000    100000.0   2720.0   \n",
       "\n",
       "     Sequel  Sentiment    Views  Likes  Dislikes  Comments  \\\n",
       "226       1          4  3701061   9325       641      1859   \n",
       "227       1         13  7119456  18803      1128      2290   \n",
       "228       1          7  3450614   6823       325       409   \n",
       "229       1         10    66872    400        67       201   \n",
       "230       1         -5   659772   2841       431       606   \n",
       "\n",
       "     Aggregate Followers  \n",
       "226                  NaN  \n",
       "227                  NaN  \n",
       "228                  NaN  \n",
       "229                  NaN  \n",
       "230                  NaN  "
      ]
     },
     "execution_count": 9,
     "metadata": {},
     "output_type": "execute_result"
    }
   ],
   "source": [
    "df.tail()"
   ]
  },
  {
   "cell_type": "markdown",
   "id": "92cba652-55c9-49bb-abad-4a77d71a9f27",
   "metadata": {},
   "source": [
    "(4)&(5) describe all features"
   ]
  },
  {
   "cell_type": "code",
   "execution_count": 10,
   "id": "9a66552d-761d-4c0d-9d5d-5696bbaa00c8",
   "metadata": {},
   "outputs": [
    {
     "data": {
      "text/html": [
       "<div>\n",
       "<style scoped>\n",
       "    .dataframe tbody tr th:only-of-type {\n",
       "        vertical-align: middle;\n",
       "    }\n",
       "\n",
       "    .dataframe tbody tr th {\n",
       "        vertical-align: top;\n",
       "    }\n",
       "\n",
       "    .dataframe thead th {\n",
       "        text-align: right;\n",
       "    }\n",
       "</style>\n",
       "<table border=\"1\" class=\"dataframe\">\n",
       "  <thead>\n",
       "    <tr style=\"text-align: right;\">\n",
       "      <th></th>\n",
       "      <th>Year</th>\n",
       "      <th>Ratings</th>\n",
       "      <th>Genre</th>\n",
       "      <th>Gross</th>\n",
       "      <th>Budget</th>\n",
       "      <th>Screens</th>\n",
       "      <th>Sequel</th>\n",
       "      <th>Sentiment</th>\n",
       "      <th>Views</th>\n",
       "      <th>Likes</th>\n",
       "      <th>Dislikes</th>\n",
       "      <th>Comments</th>\n",
       "      <th>Aggregate Followers</th>\n",
       "    </tr>\n",
       "  </thead>\n",
       "  <tbody>\n",
       "    <tr>\n",
       "      <th>count</th>\n",
       "      <td>231.000000</td>\n",
       "      <td>231.000000</td>\n",
       "      <td>231.000000</td>\n",
       "      <td>2.310000e+02</td>\n",
       "      <td>2.300000e+02</td>\n",
       "      <td>221.000000</td>\n",
       "      <td>231.000000</td>\n",
       "      <td>231.000000</td>\n",
       "      <td>2.310000e+02</td>\n",
       "      <td>231.000000</td>\n",
       "      <td>231.000000</td>\n",
       "      <td>231.000000</td>\n",
       "      <td>1.960000e+02</td>\n",
       "    </tr>\n",
       "    <tr>\n",
       "      <th>mean</th>\n",
       "      <td>2014.294372</td>\n",
       "      <td>6.441558</td>\n",
       "      <td>5.359307</td>\n",
       "      <td>6.806603e+07</td>\n",
       "      <td>4.792173e+07</td>\n",
       "      <td>2209.244344</td>\n",
       "      <td>1.359307</td>\n",
       "      <td>2.809524</td>\n",
       "      <td>3.712851e+06</td>\n",
       "      <td>12732.536797</td>\n",
       "      <td>679.051948</td>\n",
       "      <td>1825.701299</td>\n",
       "      <td>3.038193e+06</td>\n",
       "    </tr>\n",
       "    <tr>\n",
       "      <th>std</th>\n",
       "      <td>0.456750</td>\n",
       "      <td>0.988765</td>\n",
       "      <td>4.141611</td>\n",
       "      <td>8.890289e+07</td>\n",
       "      <td>5.428825e+07</td>\n",
       "      <td>1463.767755</td>\n",
       "      <td>0.967241</td>\n",
       "      <td>6.996775</td>\n",
       "      <td>4.511104e+06</td>\n",
       "      <td>28825.484481</td>\n",
       "      <td>1243.929481</td>\n",
       "      <td>3571.040447</td>\n",
       "      <td>4.886278e+06</td>\n",
       "    </tr>\n",
       "    <tr>\n",
       "      <th>min</th>\n",
       "      <td>2014.000000</td>\n",
       "      <td>3.100000</td>\n",
       "      <td>1.000000</td>\n",
       "      <td>2.470000e+03</td>\n",
       "      <td>7.000000e+04</td>\n",
       "      <td>2.000000</td>\n",
       "      <td>1.000000</td>\n",
       "      <td>-38.000000</td>\n",
       "      <td>6.980000e+02</td>\n",
       "      <td>1.000000</td>\n",
       "      <td>0.000000</td>\n",
       "      <td>0.000000</td>\n",
       "      <td>1.066000e+03</td>\n",
       "    </tr>\n",
       "    <tr>\n",
       "      <th>25%</th>\n",
       "      <td>2014.000000</td>\n",
       "      <td>5.800000</td>\n",
       "      <td>1.000000</td>\n",
       "      <td>1.030000e+07</td>\n",
       "      <td>9.000000e+06</td>\n",
       "      <td>449.000000</td>\n",
       "      <td>1.000000</td>\n",
       "      <td>0.000000</td>\n",
       "      <td>6.233020e+05</td>\n",
       "      <td>1776.500000</td>\n",
       "      <td>105.500000</td>\n",
       "      <td>248.500000</td>\n",
       "      <td>1.830250e+05</td>\n",
       "    </tr>\n",
       "    <tr>\n",
       "      <th>50%</th>\n",
       "      <td>2014.000000</td>\n",
       "      <td>6.500000</td>\n",
       "      <td>3.000000</td>\n",
       "      <td>3.740000e+07</td>\n",
       "      <td>2.800000e+07</td>\n",
       "      <td>2777.000000</td>\n",
       "      <td>1.000000</td>\n",
       "      <td>0.000000</td>\n",
       "      <td>2.409338e+06</td>\n",
       "      <td>6096.000000</td>\n",
       "      <td>341.000000</td>\n",
       "      <td>837.000000</td>\n",
       "      <td>1.052600e+06</td>\n",
       "    </tr>\n",
       "    <tr>\n",
       "      <th>75%</th>\n",
       "      <td>2015.000000</td>\n",
       "      <td>7.100000</td>\n",
       "      <td>8.000000</td>\n",
       "      <td>8.935000e+07</td>\n",
       "      <td>6.500000e+07</td>\n",
       "      <td>3372.000000</td>\n",
       "      <td>1.000000</td>\n",
       "      <td>5.500000</td>\n",
       "      <td>5.217380e+06</td>\n",
       "      <td>15247.500000</td>\n",
       "      <td>697.500000</td>\n",
       "      <td>2137.000000</td>\n",
       "      <td>3.694500e+06</td>\n",
       "    </tr>\n",
       "    <tr>\n",
       "      <th>max</th>\n",
       "      <td>2015.000000</td>\n",
       "      <td>8.700000</td>\n",
       "      <td>15.000000</td>\n",
       "      <td>6.430000e+08</td>\n",
       "      <td>2.500000e+08</td>\n",
       "      <td>4324.000000</td>\n",
       "      <td>7.000000</td>\n",
       "      <td>29.000000</td>\n",
       "      <td>3.262678e+07</td>\n",
       "      <td>370552.000000</td>\n",
       "      <td>13960.000000</td>\n",
       "      <td>38363.000000</td>\n",
       "      <td>3.103000e+07</td>\n",
       "    </tr>\n",
       "  </tbody>\n",
       "</table>\n",
       "</div>"
      ],
      "text/plain": [
       "              Year     Ratings       Genre         Gross        Budget  \\\n",
       "count   231.000000  231.000000  231.000000  2.310000e+02  2.300000e+02   \n",
       "mean   2014.294372    6.441558    5.359307  6.806603e+07  4.792173e+07   \n",
       "std       0.456750    0.988765    4.141611  8.890289e+07  5.428825e+07   \n",
       "min    2014.000000    3.100000    1.000000  2.470000e+03  7.000000e+04   \n",
       "25%    2014.000000    5.800000    1.000000  1.030000e+07  9.000000e+06   \n",
       "50%    2014.000000    6.500000    3.000000  3.740000e+07  2.800000e+07   \n",
       "75%    2015.000000    7.100000    8.000000  8.935000e+07  6.500000e+07   \n",
       "max    2015.000000    8.700000   15.000000  6.430000e+08  2.500000e+08   \n",
       "\n",
       "           Screens      Sequel   Sentiment         Views          Likes  \\\n",
       "count   221.000000  231.000000  231.000000  2.310000e+02     231.000000   \n",
       "mean   2209.244344    1.359307    2.809524  3.712851e+06   12732.536797   \n",
       "std    1463.767755    0.967241    6.996775  4.511104e+06   28825.484481   \n",
       "min       2.000000    1.000000  -38.000000  6.980000e+02       1.000000   \n",
       "25%     449.000000    1.000000    0.000000  6.233020e+05    1776.500000   \n",
       "50%    2777.000000    1.000000    0.000000  2.409338e+06    6096.000000   \n",
       "75%    3372.000000    1.000000    5.500000  5.217380e+06   15247.500000   \n",
       "max    4324.000000    7.000000   29.000000  3.262678e+07  370552.000000   \n",
       "\n",
       "           Dislikes      Comments  Aggregate Followers  \n",
       "count    231.000000    231.000000         1.960000e+02  \n",
       "mean     679.051948   1825.701299         3.038193e+06  \n",
       "std     1243.929481   3571.040447         4.886278e+06  \n",
       "min        0.000000      0.000000         1.066000e+03  \n",
       "25%      105.500000    248.500000         1.830250e+05  \n",
       "50%      341.000000    837.000000         1.052600e+06  \n",
       "75%      697.500000   2137.000000         3.694500e+06  \n",
       "max    13960.000000  38363.000000         3.103000e+07  "
      ]
     },
     "execution_count": 10,
     "metadata": {},
     "output_type": "execute_result"
    }
   ],
   "source": [
    "df.describe()"
   ]
  },
  {
   "cell_type": "markdown",
   "id": "7ec5794a-4fce-43a7-9549-ab2722d3ed3a",
   "metadata": {},
   "source": [
    "(6) mean for all numerical columns"
   ]
  },
  {
   "cell_type": "code",
   "execution_count": 11,
   "id": "7a0d90c0-8f22-4b18-82c4-d9848fdc0c1d",
   "metadata": {},
   "outputs": [
    {
     "data": {
      "text/plain": [
       "2014.2943722943724"
      ]
     },
     "execution_count": 11,
     "metadata": {},
     "output_type": "execute_result"
    }
   ],
   "source": [
    "df['Year'].mean()"
   ]
  },
  {
   "cell_type": "code",
   "execution_count": 12,
   "id": "3cee9ce9-d0d2-401d-85c4-a7ba158463eb",
   "metadata": {},
   "outputs": [
    {
     "data": {
      "text/plain": [
       "6.441558441558438"
      ]
     },
     "execution_count": 12,
     "metadata": {},
     "output_type": "execute_result"
    }
   ],
   "source": [
    "df['Ratings'].mean()"
   ]
  },
  {
   "cell_type": "code",
   "execution_count": 13,
   "id": "46aa5dde-4bd5-4e6f-a196-3fa70404850e",
   "metadata": {},
   "outputs": [
    {
     "data": {
      "text/plain": [
       "5.359307359307359"
      ]
     },
     "execution_count": 13,
     "metadata": {},
     "output_type": "execute_result"
    }
   ],
   "source": [
    "df['Genre'].mean()"
   ]
  },
  {
   "cell_type": "code",
   "execution_count": 14,
   "id": "ea2c874a-7b8c-42d8-a24e-3c1b838527bc",
   "metadata": {},
   "outputs": [
    {
     "data": {
      "text/plain": [
       "68066033.2034632"
      ]
     },
     "execution_count": 14,
     "metadata": {},
     "output_type": "execute_result"
    }
   ],
   "source": [
    "df['Gross'].mean()"
   ]
  },
  {
   "cell_type": "code",
   "execution_count": 15,
   "id": "0ef75e51-8821-4dfe-88d7-a8af54c34b70",
   "metadata": {},
   "outputs": [
    {
     "data": {
      "text/plain": [
       "47921730.04678262"
      ]
     },
     "execution_count": 15,
     "metadata": {},
     "output_type": "execute_result"
    }
   ],
   "source": [
    "df['Budget'].mean()"
   ]
  },
  {
   "cell_type": "code",
   "execution_count": 16,
   "id": "93fdcb7a-f688-450b-9b25-9f38255abdfe",
   "metadata": {},
   "outputs": [
    {
     "data": {
      "text/plain": [
       "2209.244343891403"
      ]
     },
     "execution_count": 16,
     "metadata": {},
     "output_type": "execute_result"
    }
   ],
   "source": [
    "df['Screens'].mean()"
   ]
  },
  {
   "cell_type": "code",
   "execution_count": 17,
   "id": "1ebc926a-0fec-473c-bfb6-70d09941df27",
   "metadata": {},
   "outputs": [
    {
     "data": {
      "text/plain": [
       "1.3593073593073592"
      ]
     },
     "execution_count": 17,
     "metadata": {},
     "output_type": "execute_result"
    }
   ],
   "source": [
    "df['Sequel'].mean()"
   ]
  },
  {
   "cell_type": "code",
   "execution_count": 18,
   "id": "7e5d8ac5-a70c-4b22-b6fb-5403420eb512",
   "metadata": {},
   "outputs": [
    {
     "data": {
      "text/plain": [
       "2.8095238095238093"
      ]
     },
     "execution_count": 18,
     "metadata": {},
     "output_type": "execute_result"
    }
   ],
   "source": [
    "df['Sentiment'].mean()"
   ]
  },
  {
   "cell_type": "code",
   "execution_count": 19,
   "id": "0247c63d-8b3d-43a2-baa1-6ed6de12cd61",
   "metadata": {},
   "outputs": [
    {
     "data": {
      "text/plain": [
       "3712851.2900432902"
      ]
     },
     "execution_count": 19,
     "metadata": {},
     "output_type": "execute_result"
    }
   ],
   "source": [
    "df['Views'].mean()"
   ]
  },
  {
   "cell_type": "code",
   "execution_count": 20,
   "id": "c5b3cff4-b3dc-4b9f-aea7-abc9aa5fdc85",
   "metadata": {},
   "outputs": [
    {
     "data": {
      "text/plain": [
       "12732.536796536797"
      ]
     },
     "execution_count": 20,
     "metadata": {},
     "output_type": "execute_result"
    }
   ],
   "source": [
    "df['Likes'].mean()"
   ]
  },
  {
   "cell_type": "code",
   "execution_count": 21,
   "id": "336972d6-8d19-4306-80a1-21f0d84cadb7",
   "metadata": {},
   "outputs": [
    {
     "data": {
      "text/plain": [
       "679.0519480519481"
      ]
     },
     "execution_count": 21,
     "metadata": {},
     "output_type": "execute_result"
    }
   ],
   "source": [
    "df['Dislikes'].mean()"
   ]
  },
  {
   "cell_type": "code",
   "execution_count": 22,
   "id": "48606f04-cd63-429b-b137-6018ba0b5786",
   "metadata": {},
   "outputs": [
    {
     "data": {
      "text/plain": [
       "1825.7012987012988"
      ]
     },
     "execution_count": 22,
     "metadata": {},
     "output_type": "execute_result"
    }
   ],
   "source": [
    "df['Comments'].mean()"
   ]
  },
  {
   "cell_type": "code",
   "execution_count": 23,
   "id": "67ff195b-fcfd-411f-a62b-397ebc55eb2b",
   "metadata": {},
   "outputs": [
    {
     "data": {
      "text/plain": [
       "3038193.448979592"
      ]
     },
     "execution_count": 23,
     "metadata": {},
     "output_type": "execute_result"
    }
   ],
   "source": [
    "df['Aggregate Followers'].mean()"
   ]
  },
  {
   "cell_type": "markdown",
   "id": "4aa9fae2-5441-4d07-a004-066f79e18dc0",
   "metadata": {},
   "source": [
    "(7) median for all numerical columns"
   ]
  },
  {
   "cell_type": "code",
   "execution_count": 24,
   "id": "75d81ed4-c0f5-4a07-a23d-cf08c19f727c",
   "metadata": {},
   "outputs": [
    {
     "data": {
      "text/plain": [
       "2014.0"
      ]
     },
     "execution_count": 24,
     "metadata": {},
     "output_type": "execute_result"
    }
   ],
   "source": [
    "df['Year'].median()"
   ]
  },
  {
   "cell_type": "code",
   "execution_count": 25,
   "id": "4e9edede-eba9-4f52-a9b5-9b500dceff92",
   "metadata": {},
   "outputs": [
    {
     "data": {
      "text/plain": [
       "6.5"
      ]
     },
     "execution_count": 25,
     "metadata": {},
     "output_type": "execute_result"
    }
   ],
   "source": [
    "df['Ratings'].median()"
   ]
  },
  {
   "cell_type": "code",
   "execution_count": 26,
   "id": "4d02cfcf-94ef-4159-96e1-82e2141d70d8",
   "metadata": {},
   "outputs": [
    {
     "data": {
      "text/plain": [
       "3.0"
      ]
     },
     "execution_count": 26,
     "metadata": {},
     "output_type": "execute_result"
    }
   ],
   "source": [
    "df['Genre'].median()"
   ]
  },
  {
   "cell_type": "code",
   "execution_count": 27,
   "id": "1d42be5a-f52e-4d72-a793-57b6b95bc17b",
   "metadata": {},
   "outputs": [
    {
     "data": {
      "text/plain": [
       "37400000.0"
      ]
     },
     "execution_count": 27,
     "metadata": {},
     "output_type": "execute_result"
    }
   ],
   "source": [
    "df['Gross'].median()"
   ]
  },
  {
   "cell_type": "code",
   "execution_count": 28,
   "id": "64985cb7-b447-4b25-ba50-3302e95d35c8",
   "metadata": {},
   "outputs": [
    {
     "data": {
      "text/plain": [
       "28000000.0"
      ]
     },
     "execution_count": 28,
     "metadata": {},
     "output_type": "execute_result"
    }
   ],
   "source": [
    "df['Budget'].median()"
   ]
  },
  {
   "cell_type": "code",
   "execution_count": 29,
   "id": "8a4c824e-8fa8-4ef5-bae4-cee84ddb89f9",
   "metadata": {},
   "outputs": [
    {
     "data": {
      "text/plain": [
       "2777.0"
      ]
     },
     "execution_count": 29,
     "metadata": {},
     "output_type": "execute_result"
    }
   ],
   "source": [
    "df['Screens'].median()"
   ]
  },
  {
   "cell_type": "code",
   "execution_count": 30,
   "id": "12a48a96-8f38-4728-91f1-00193e880ac3",
   "metadata": {},
   "outputs": [
    {
     "data": {
      "text/plain": [
       "1.0"
      ]
     },
     "execution_count": 30,
     "metadata": {},
     "output_type": "execute_result"
    }
   ],
   "source": [
    "df['Sequel'].median()"
   ]
  },
  {
   "cell_type": "code",
   "execution_count": 31,
   "id": "50c0e9b5-622f-47c8-b9a1-220ef258ac85",
   "metadata": {},
   "outputs": [
    {
     "data": {
      "text/plain": [
       "0.0"
      ]
     },
     "execution_count": 31,
     "metadata": {},
     "output_type": "execute_result"
    }
   ],
   "source": [
    "df['Sentiment'].median()"
   ]
  },
  {
   "cell_type": "code",
   "execution_count": 32,
   "id": "49ddc7ac-f090-4329-9099-a1d3a6efa779",
   "metadata": {},
   "outputs": [
    {
     "data": {
      "text/plain": [
       "2409338.0"
      ]
     },
     "execution_count": 32,
     "metadata": {},
     "output_type": "execute_result"
    }
   ],
   "source": [
    "df['Views'].median()"
   ]
  },
  {
   "cell_type": "code",
   "execution_count": 33,
   "id": "cad79c90-d9cd-4550-b5e0-74238e6a6b60",
   "metadata": {},
   "outputs": [
    {
     "data": {
      "text/plain": [
       "6096.0"
      ]
     },
     "execution_count": 33,
     "metadata": {},
     "output_type": "execute_result"
    }
   ],
   "source": [
    "df['Likes'].median()"
   ]
  },
  {
   "cell_type": "code",
   "execution_count": 34,
   "id": "1144de0f-951b-4e21-a18d-34943e5c892d",
   "metadata": {},
   "outputs": [
    {
     "data": {
      "text/plain": [
       "341.0"
      ]
     },
     "execution_count": 34,
     "metadata": {},
     "output_type": "execute_result"
    }
   ],
   "source": [
    "df['Dislikes'].median()"
   ]
  },
  {
   "cell_type": "code",
   "execution_count": 35,
   "id": "fa8baaf2-e511-407b-8096-629e9462c4d5",
   "metadata": {},
   "outputs": [
    {
     "data": {
      "text/plain": [
       "837.0"
      ]
     },
     "execution_count": 35,
     "metadata": {},
     "output_type": "execute_result"
    }
   ],
   "source": [
    "df['Comments'].median()"
   ]
  },
  {
   "cell_type": "code",
   "execution_count": 36,
   "id": "1f6c3f42-beb5-405f-9a2a-7781a12a8e2b",
   "metadata": {},
   "outputs": [
    {
     "data": {
      "text/plain": [
       "1052600.0"
      ]
     },
     "execution_count": 36,
     "metadata": {},
     "output_type": "execute_result"
    }
   ],
   "source": [
    "df['Aggregate Followers'].median()"
   ]
  },
  {
   "cell_type": "markdown",
   "id": "594246f9-3b3e-4a97-81b2-ae53b24b0fd1",
   "metadata": {},
   "source": [
    "(8) mode for all numerical columns"
   ]
  },
  {
   "cell_type": "code",
   "execution_count": 37,
   "id": "8a283f94-cfb8-44e5-9e3e-16983c14b79a",
   "metadata": {},
   "outputs": [
    {
     "data": {
      "text/plain": [
       "0    2014\n",
       "Name: Year, dtype: int64"
      ]
     },
     "execution_count": 37,
     "metadata": {},
     "output_type": "execute_result"
    }
   ],
   "source": [
    "df['Year'].mode()"
   ]
  },
  {
   "cell_type": "code",
   "execution_count": 38,
   "id": "a0e296e3-e5b9-483a-a1ed-727b46f8ffd7",
   "metadata": {},
   "outputs": [
    {
     "data": {
      "text/plain": [
       "0    6.1\n",
       "1    6.3\n",
       "2    6.6\n",
       "Name: Ratings, dtype: float64"
      ]
     },
     "execution_count": 38,
     "metadata": {},
     "output_type": "execute_result"
    }
   ],
   "source": [
    "df['Ratings'].mode()"
   ]
  },
  {
   "cell_type": "code",
   "execution_count": 39,
   "id": "071dc417-185b-4728-a44f-ca02ce31669c",
   "metadata": {},
   "outputs": [
    {
     "data": {
      "text/plain": [
       "0    1\n",
       "Name: Genre, dtype: int64"
      ]
     },
     "execution_count": 39,
     "metadata": {},
     "output_type": "execute_result"
    }
   ],
   "source": [
    "df['Genre'].mode()"
   ]
  },
  {
   "cell_type": "code",
   "execution_count": 40,
   "id": "037374f0-b345-4975-8d58-39d38a37ae7b",
   "metadata": {},
   "outputs": [
    {
     "data": {
      "text/plain": [
       "0        129000\n",
       "1       1210000\n",
       "2       2820000\n",
       "3      12300000\n",
       "4      25400000\n",
       "5      26000000\n",
       "6      47400000\n",
       "7      50500000\n",
       "8      50800000\n",
       "9      71000000\n",
       "10     91400000\n",
       "11    102000000\n",
       "12    128000000\n",
       "13    177000000\n",
       "14    201000000\n",
       "15    350000000\n",
       "Name: Gross, dtype: int64"
      ]
     },
     "execution_count": 40,
     "metadata": {},
     "output_type": "execute_result"
    }
   ],
   "source": [
    "df['Gross'].mode()"
   ]
  },
  {
   "cell_type": "code",
   "execution_count": 41,
   "id": "4e0e6eea-b148-4340-ae1f-a3d3a928ebca",
   "metadata": {},
   "outputs": [
    {
     "data": {
      "text/plain": [
       "0     5000000.0\n",
       "1    50000000.0\n",
       "Name: Budget, dtype: float64"
      ]
     },
     "execution_count": 41,
     "metadata": {},
     "output_type": "execute_result"
    }
   ],
   "source": [
    "df['Budget'].mode()"
   ]
  },
  {
   "cell_type": "code",
   "execution_count": 42,
   "id": "d09cab21-c538-404b-bdaf-2d8c50cc56b5",
   "metadata": {},
   "outputs": [
    {
     "data": {
      "text/plain": [
       "0       2.0\n",
       "1       4.0\n",
       "2      66.0\n",
       "3    3003.0\n",
       "Name: Screens, dtype: float64"
      ]
     },
     "execution_count": 42,
     "metadata": {},
     "output_type": "execute_result"
    }
   ],
   "source": [
    "df['Screens'].mode()"
   ]
  },
  {
   "cell_type": "code",
   "execution_count": 43,
   "id": "38be57b1-bc51-4eb2-a30b-f0976cd108f9",
   "metadata": {},
   "outputs": [
    {
     "data": {
      "text/plain": [
       "0    1\n",
       "Name: Sequel, dtype: int64"
      ]
     },
     "execution_count": 43,
     "metadata": {},
     "output_type": "execute_result"
    }
   ],
   "source": [
    "df['Sequel'].mode()"
   ]
  },
  {
   "cell_type": "code",
   "execution_count": 44,
   "id": "2f181d8d-2558-49b3-ac1b-966b2530830c",
   "metadata": {},
   "outputs": [
    {
     "data": {
      "text/plain": [
       "0    0\n",
       "Name: Sentiment, dtype: int64"
      ]
     },
     "execution_count": 44,
     "metadata": {},
     "output_type": "execute_result"
    }
   ],
   "source": [
    "df['Sentiment'].mode()"
   ]
  },
  {
   "cell_type": "code",
   "execution_count": 45,
   "id": "632c12b4-4214-4651-9c17-2f6762edd0b6",
   "metadata": {},
   "outputs": [
    {
     "data": {
      "text/plain": [
       "0           698\n",
       "1           702\n",
       "2          2285\n",
       "3          4877\n",
       "4          6495\n",
       "         ...   \n",
       "226    14453673\n",
       "227    15568277\n",
       "228    19032902\n",
       "229    31859569\n",
       "230    32626778\n",
       "Name: Views, Length: 231, dtype: int64"
      ]
     },
     "execution_count": 45,
     "metadata": {},
     "output_type": "execute_result"
    }
   ],
   "source": [
    "df['Views'].mode()"
   ]
  },
  {
   "cell_type": "code",
   "execution_count": 46,
   "id": "16559a55-9922-45f2-9031-53506a40863b",
   "metadata": {},
   "outputs": [
    {
     "data": {
      "text/plain": [
       "0       1\n",
       "1       6\n",
       "2     238\n",
       "3    4632\n",
       "Name: Likes, dtype: int64"
      ]
     },
     "execution_count": 46,
     "metadata": {},
     "output_type": "execute_result"
    }
   ],
   "source": [
    "df['Likes'].mode()"
   ]
  },
  {
   "cell_type": "code",
   "execution_count": 47,
   "id": "62734c8c-28a5-4123-a10f-47ac674e2125",
   "metadata": {},
   "outputs": [
    {
     "data": {
      "text/plain": [
       "0    1\n",
       "Name: Dislikes, dtype: int64"
      ]
     },
     "execution_count": 47,
     "metadata": {},
     "output_type": "execute_result"
    }
   ],
   "source": [
    "df['Dislikes'].mode()"
   ]
  },
  {
   "cell_type": "code",
   "execution_count": 48,
   "id": "183fc3d2-9072-4ba6-8372-e11e345de633",
   "metadata": {},
   "outputs": [
    {
     "data": {
      "text/plain": [
       "0    1\n",
       "Name: Comments, dtype: int64"
      ]
     },
     "execution_count": 48,
     "metadata": {},
     "output_type": "execute_result"
    }
   ],
   "source": [
    "df['Comments'].mode()"
   ]
  },
  {
   "cell_type": "code",
   "execution_count": 49,
   "id": "0eaed4ae-08c6-4f2f-be49-e48ac1833031",
   "metadata": {},
   "outputs": [
    {
     "data": {
      "text/plain": [
       "0     130000.0\n",
       "1     147000.0\n",
       "2     250000.0\n",
       "3    1800000.0\n",
       "4    1810000.0\n",
       "5    4240000.0\n",
       "Name: Aggregate Followers, dtype: float64"
      ]
     },
     "execution_count": 49,
     "metadata": {},
     "output_type": "execute_result"
    }
   ],
   "source": [
    "df['Aggregate Followers'].mode()"
   ]
  },
  {
   "cell_type": "markdown",
   "id": "5e329f7e-f84c-475b-89ad-69c5a2583b7b",
   "metadata": {},
   "source": [
    "(9) standard deviation for all numerical columns"
   ]
  },
  {
   "cell_type": "code",
   "execution_count": 50,
   "id": "e48aa82d-6e1f-4bc5-b353-43002a3858a8",
   "metadata": {},
   "outputs": [
    {
     "data": {
      "text/plain": [
       "0.45674978395408633"
      ]
     },
     "execution_count": 50,
     "metadata": {},
     "output_type": "execute_result"
    }
   ],
   "source": [
    "df['Year'].std()"
   ]
  },
  {
   "cell_type": "code",
   "execution_count": 51,
   "id": "337caa95-a771-42fe-9d4f-e57d1ed203f1",
   "metadata": {},
   "outputs": [
    {
     "data": {
      "text/plain": [
       "0.988765235601936"
      ]
     },
     "execution_count": 51,
     "metadata": {},
     "output_type": "execute_result"
    }
   ],
   "source": [
    "df['Ratings'].std()"
   ]
  },
  {
   "cell_type": "code",
   "execution_count": 91,
   "id": "285b0cf9-38b0-4403-9db7-f6ce98be0090",
   "metadata": {},
   "outputs": [
    {
     "data": {
      "text/plain": [
       "4.141611474428705"
      ]
     },
     "execution_count": 91,
     "metadata": {},
     "output_type": "execute_result"
    }
   ],
   "source": [
    "df['Genre'].std()"
   ]
  },
  {
   "cell_type": "code",
   "execution_count": 92,
   "id": "24e79a17-2e37-4fcc-abdf-fdff3b46e6a4",
   "metadata": {},
   "outputs": [
    {
     "data": {
      "text/plain": [
       "88902891.2219994"
      ]
     },
     "execution_count": 92,
     "metadata": {},
     "output_type": "execute_result"
    }
   ],
   "source": [
    "df['Gross'].std()"
   ]
  },
  {
   "cell_type": "code",
   "execution_count": 93,
   "id": "060bbde5-993e-4ee2-ad8a-7ad7223d3a39",
   "metadata": {},
   "outputs": [
    {
     "data": {
      "text/plain": [
       "54288246.071780145"
      ]
     },
     "execution_count": 93,
     "metadata": {},
     "output_type": "execute_result"
    }
   ],
   "source": [
    "df['Budget'].std()"
   ]
  },
  {
   "cell_type": "code",
   "execution_count": 94,
   "id": "7a491735-a98a-478e-91a7-aeb472c25973",
   "metadata": {},
   "outputs": [
    {
     "data": {
      "text/plain": [
       "1463.7677548110844"
      ]
     },
     "execution_count": 94,
     "metadata": {},
     "output_type": "execute_result"
    }
   ],
   "source": [
    "df['Screens'].std()"
   ]
  },
  {
   "cell_type": "code",
   "execution_count": 95,
   "id": "a9fb3ab5-30f3-4096-9abd-0c1e8a508126",
   "metadata": {},
   "outputs": [
    {
     "data": {
      "text/plain": [
       "0.9672405599289615"
      ]
     },
     "execution_count": 95,
     "metadata": {},
     "output_type": "execute_result"
    }
   ],
   "source": [
    "df['Sequel'].std()"
   ]
  },
  {
   "cell_type": "code",
   "execution_count": 96,
   "id": "47f18a41-225c-4a50-b45e-13e59c71bf39",
   "metadata": {},
   "outputs": [
    {
     "data": {
      "text/plain": [
       "6.996775359008652"
      ]
     },
     "execution_count": 96,
     "metadata": {},
     "output_type": "execute_result"
    }
   ],
   "source": [
    "df['Sentiment'].std()"
   ]
  },
  {
   "cell_type": "code",
   "execution_count": 97,
   "id": "87ec9728-8d8a-4fb9-a79b-37d90869d6b2",
   "metadata": {},
   "outputs": [
    {
     "data": {
      "text/plain": [
       "4511104.242784644"
      ]
     },
     "execution_count": 97,
     "metadata": {},
     "output_type": "execute_result"
    }
   ],
   "source": [
    "df['Views'].std()"
   ]
  },
  {
   "cell_type": "code",
   "execution_count": 98,
   "id": "483440a9-477e-434d-a10e-0811c72a8818",
   "metadata": {},
   "outputs": [
    {
     "data": {
      "text/plain": [
       "28825.484480519735"
      ]
     },
     "execution_count": 98,
     "metadata": {},
     "output_type": "execute_result"
    }
   ],
   "source": [
    "df['Likes'].std()"
   ]
  },
  {
   "cell_type": "code",
   "execution_count": 99,
   "id": "db1076d9-7f87-49aa-8f6b-ac5eeb40caaf",
   "metadata": {},
   "outputs": [
    {
     "data": {
      "text/plain": [
       "1243.9294810444062"
      ]
     },
     "execution_count": 99,
     "metadata": {},
     "output_type": "execute_result"
    }
   ],
   "source": [
    "df['Dislikes'].std()"
   ]
  },
  {
   "cell_type": "code",
   "execution_count": 100,
   "id": "6bc372b0-e142-4106-b378-6d7754c24fed",
   "metadata": {},
   "outputs": [
    {
     "data": {
      "text/plain": [
       "3571.040446600847"
      ]
     },
     "execution_count": 100,
     "metadata": {},
     "output_type": "execute_result"
    }
   ],
   "source": [
    "df['Comments'].std()"
   ]
  },
  {
   "cell_type": "code",
   "execution_count": 101,
   "id": "37d96f45-9c7e-4d18-ba57-40b1ab8a208a",
   "metadata": {},
   "outputs": [
    {
     "data": {
      "text/plain": [
       "4886278.073224598"
      ]
     },
     "execution_count": 101,
     "metadata": {},
     "output_type": "execute_result"
    }
   ],
   "source": [
    "df['Aggregate Followers'].std()"
   ]
  },
  {
   "cell_type": "markdown",
   "id": "7fa17bfb-78b7-4b25-b971-99ebffc076d1",
   "metadata": {},
   "source": [
    "(10) sum for all numerical columns"
   ]
  },
  {
   "cell_type": "code",
   "execution_count": 52,
   "id": "cb6c12b7-e1e3-4d42-8cae-de3bfcc8624e",
   "metadata": {},
   "outputs": [
    {
     "data": {
      "text/plain": [
       "465302"
      ]
     },
     "execution_count": 52,
     "metadata": {},
     "output_type": "execute_result"
    }
   ],
   "source": [
    "df['Year'].sum()"
   ]
  },
  {
   "cell_type": "code",
   "execution_count": 53,
   "id": "1eed7fe5-7af9-4523-a088-5ff29109eba9",
   "metadata": {},
   "outputs": [
    {
     "data": {
      "text/plain": [
       "1488.0"
      ]
     },
     "execution_count": 53,
     "metadata": {},
     "output_type": "execute_result"
    }
   ],
   "source": [
    "df['Ratings'].sum()"
   ]
  },
  {
   "cell_type": "code",
   "execution_count": 54,
   "id": "7c9be147-c096-4f2e-9784-e0b72927f177",
   "metadata": {},
   "outputs": [
    {
     "data": {
      "text/plain": [
       "1238"
      ]
     },
     "execution_count": 54,
     "metadata": {},
     "output_type": "execute_result"
    }
   ],
   "source": [
    "df['Genre'].sum()"
   ]
  },
  {
   "cell_type": "code",
   "execution_count": 55,
   "id": "2eaa1d70-3d55-4d36-b582-0977898ee3aa",
   "metadata": {},
   "outputs": [
    {
     "data": {
      "text/plain": [
       "15723253670"
      ]
     },
     "execution_count": 55,
     "metadata": {},
     "output_type": "execute_result"
    }
   ],
   "source": [
    "df['Gross'].sum()"
   ]
  },
  {
   "cell_type": "code",
   "execution_count": 56,
   "id": "fda59c94-7717-461e-a8ab-4fe18009ce46",
   "metadata": {},
   "outputs": [
    {
     "data": {
      "text/plain": [
       "11021997910.76"
      ]
     },
     "execution_count": 56,
     "metadata": {},
     "output_type": "execute_result"
    }
   ],
   "source": [
    "df['Budget'].sum()"
   ]
  },
  {
   "cell_type": "code",
   "execution_count": 57,
   "id": "c4f67a57-d8f7-4cf8-8637-fc94255c896f",
   "metadata": {},
   "outputs": [
    {
     "data": {
      "text/plain": [
       "488243.0"
      ]
     },
     "execution_count": 57,
     "metadata": {},
     "output_type": "execute_result"
    }
   ],
   "source": [
    "df['Screens'].sum()"
   ]
  },
  {
   "cell_type": "code",
   "execution_count": 58,
   "id": "863fb8d9-ed7f-4496-bfc8-58030ed58ab8",
   "metadata": {},
   "outputs": [
    {
     "data": {
      "text/plain": [
       "314"
      ]
     },
     "execution_count": 58,
     "metadata": {},
     "output_type": "execute_result"
    }
   ],
   "source": [
    "df['Sequel'].sum()"
   ]
  },
  {
   "cell_type": "code",
   "execution_count": 59,
   "id": "e1b5c5f6-d629-4aa4-b7b8-fd10ecd3cfc0",
   "metadata": {},
   "outputs": [
    {
     "data": {
      "text/plain": [
       "649"
      ]
     },
     "execution_count": 59,
     "metadata": {},
     "output_type": "execute_result"
    }
   ],
   "source": [
    "df['Sentiment'].sum()"
   ]
  },
  {
   "cell_type": "code",
   "execution_count": 60,
   "id": "d112941e-b72f-4a16-b380-74fcf1726236",
   "metadata": {},
   "outputs": [
    {
     "data": {
      "text/plain": [
       "857668648"
      ]
     },
     "execution_count": 60,
     "metadata": {},
     "output_type": "execute_result"
    }
   ],
   "source": [
    "df['Views'].sum()"
   ]
  },
  {
   "cell_type": "code",
   "execution_count": 61,
   "id": "0131d33c-d510-464e-a45c-3de7c56fcbae",
   "metadata": {},
   "outputs": [
    {
     "data": {
      "text/plain": [
       "2941216"
      ]
     },
     "execution_count": 61,
     "metadata": {},
     "output_type": "execute_result"
    }
   ],
   "source": [
    "df['Likes'].sum()"
   ]
  },
  {
   "cell_type": "code",
   "execution_count": 62,
   "id": "c1194aab-a9e9-4464-abf3-fd4c6388da8e",
   "metadata": {},
   "outputs": [
    {
     "data": {
      "text/plain": [
       "156861"
      ]
     },
     "execution_count": 62,
     "metadata": {},
     "output_type": "execute_result"
    }
   ],
   "source": [
    "df['Dislikes'].sum()"
   ]
  },
  {
   "cell_type": "code",
   "execution_count": 63,
   "id": "d95d8a30-546f-4130-8648-dc71bd30b1c1",
   "metadata": {},
   "outputs": [
    {
     "data": {
      "text/plain": [
       "421737"
      ]
     },
     "execution_count": 63,
     "metadata": {},
     "output_type": "execute_result"
    }
   ],
   "source": [
    "df['Comments'].sum()"
   ]
  },
  {
   "cell_type": "code",
   "execution_count": 64,
   "id": "37d69119-2db8-4f0e-950b-30b05108f462",
   "metadata": {},
   "outputs": [
    {
     "data": {
      "text/plain": [
       "595485916.0"
      ]
     },
     "execution_count": 64,
     "metadata": {},
     "output_type": "execute_result"
    }
   ],
   "source": [
    "df['Aggregate Followers'].sum()"
   ]
  },
  {
   "cell_type": "markdown",
   "id": "b045cd3d-6687-431b-adf1-8d3e6010eb0b",
   "metadata": {},
   "source": [
    "(11) count for all columns"
   ]
  },
  {
   "cell_type": "code",
   "execution_count": 65,
   "id": "495f1415-795c-42b3-b0c4-bd683bc7a378",
   "metadata": {},
   "outputs": [
    {
     "data": {
      "text/plain": [
       "Movie                  231\n",
       "Year                   231\n",
       "Ratings                231\n",
       "Genre                  231\n",
       "Gross                  231\n",
       "Budget                 230\n",
       "Screens                221\n",
       "Sequel                 231\n",
       "Sentiment              231\n",
       "Views                  231\n",
       "Likes                  231\n",
       "Dislikes               231\n",
       "Comments               231\n",
       "Aggregate Followers    196\n",
       "dtype: int64"
      ]
     },
     "execution_count": 65,
     "metadata": {},
     "output_type": "execute_result"
    }
   ],
   "source": [
    "df.count()"
   ]
  },
  {
   "cell_type": "markdown",
   "id": "ea2b01d4-9f3d-4c93-a066-53db45977103",
   "metadata": {},
   "source": [
    "(12) How many missing values are in each column"
   ]
  },
  {
   "cell_type": "code",
   "execution_count": 67,
   "id": "b0248735-610b-4bb6-a437-54ffb8ab45db",
   "metadata": {},
   "outputs": [
    {
     "name": "stdout",
     "output_type": "stream",
     "text": [
      "missing values in Year column:0\n"
     ]
    }
   ],
   "source": [
    "print('missing values in Year column:'+ str(df['Year'].isna().sum()))"
   ]
  },
  {
   "cell_type": "code",
   "execution_count": 68,
   "id": "c1ae7f2a-16e8-4562-8ea0-df6842c724f3",
   "metadata": {},
   "outputs": [
    {
     "name": "stdout",
     "output_type": "stream",
     "text": [
      "missing values in Ratings column:0\n"
     ]
    }
   ],
   "source": [
    "print('missing values in Ratings column:'+ str(df['Ratings'].isna().sum()))"
   ]
  },
  {
   "cell_type": "code",
   "execution_count": 69,
   "id": "f82e0dae-52e2-469f-a96b-6d373b6bcb4e",
   "metadata": {},
   "outputs": [
    {
     "name": "stdout",
     "output_type": "stream",
     "text": [
      "missing values in Genre column:0\n"
     ]
    }
   ],
   "source": [
    "print('missing values in Genre column:'+ str(df['Genre'].isna().sum()))"
   ]
  },
  {
   "cell_type": "code",
   "execution_count": 70,
   "id": "535a84d2-4be4-4bd7-b408-02567ec147d9",
   "metadata": {},
   "outputs": [
    {
     "name": "stdout",
     "output_type": "stream",
     "text": [
      "missing values in Gross column:0\n"
     ]
    }
   ],
   "source": [
    "print('missing values in Gross column:'+ str(df['Gross'].isna().sum()))"
   ]
  },
  {
   "cell_type": "code",
   "execution_count": 71,
   "id": "435ca581-7e0f-4b8b-a483-62916b5e7edd",
   "metadata": {},
   "outputs": [
    {
     "name": "stdout",
     "output_type": "stream",
     "text": [
      "missing values in Budget column:1\n"
     ]
    }
   ],
   "source": [
    "print('missing values in Budget column:'+ str(df['Budget'].isna().sum()))"
   ]
  },
  {
   "cell_type": "code",
   "execution_count": 72,
   "id": "2bde42cb-c716-4009-8b0c-4db8e3ae1d8a",
   "metadata": {},
   "outputs": [
    {
     "name": "stdout",
     "output_type": "stream",
     "text": [
      "missing values in Screens column:10\n"
     ]
    }
   ],
   "source": [
    "print('missing values in Screens column:'+ str(df['Screens'].isna().sum()))"
   ]
  },
  {
   "cell_type": "code",
   "execution_count": 73,
   "id": "32e63929-2f23-43eb-ae06-705af61cba2f",
   "metadata": {},
   "outputs": [
    {
     "name": "stdout",
     "output_type": "stream",
     "text": [
      "missing values in Sequel column:0\n"
     ]
    }
   ],
   "source": [
    "print('missing values in Sequel column:'+ str(df['Sequel'].isna().sum()))"
   ]
  },
  {
   "cell_type": "code",
   "execution_count": 74,
   "id": "cca4bf4e-ea14-43dd-971b-e4357f52b6f9",
   "metadata": {},
   "outputs": [
    {
     "name": "stdout",
     "output_type": "stream",
     "text": [
      "missing values in Sentiment column:0\n"
     ]
    }
   ],
   "source": [
    "print('missing values in Sentiment column:'+ str(df['Sentiment'].isna().sum()))"
   ]
  },
  {
   "cell_type": "code",
   "execution_count": 75,
   "id": "a2faff61-a91e-42e2-926e-f90e485a45bc",
   "metadata": {},
   "outputs": [
    {
     "name": "stdout",
     "output_type": "stream",
     "text": [
      "missing values in Views column:0\n"
     ]
    }
   ],
   "source": [
    "print('missing values in Views column:'+ str(df['Views'].isna().sum()))"
   ]
  },
  {
   "cell_type": "code",
   "execution_count": 76,
   "id": "433581df-cbed-4afc-8de0-981d0bd4aee5",
   "metadata": {},
   "outputs": [
    {
     "name": "stdout",
     "output_type": "stream",
     "text": [
      "missing values in Likes column:0\n"
     ]
    }
   ],
   "source": [
    "print('missing values in Likes column:'+ str(df['Likes'].isna().sum()))"
   ]
  },
  {
   "cell_type": "code",
   "execution_count": 77,
   "id": "27bc058c-6f5f-45de-a9c8-80f96e743dea",
   "metadata": {},
   "outputs": [
    {
     "name": "stdout",
     "output_type": "stream",
     "text": [
      "missing values in Dislikes column:0\n"
     ]
    }
   ],
   "source": [
    "print('missing values in Dislikes column:'+ str(df['Dislikes'].isna().sum()))"
   ]
  },
  {
   "cell_type": "code",
   "execution_count": 78,
   "id": "abd2c955-8ba2-46cf-9b5b-bd7c92bf1542",
   "metadata": {},
   "outputs": [
    {
     "name": "stdout",
     "output_type": "stream",
     "text": [
      "missing values in Comments column:0\n"
     ]
    }
   ],
   "source": [
    "print('missing values in Comments column:'+ str(df['Comments'].isna().sum()))"
   ]
  },
  {
   "cell_type": "code",
   "execution_count": 79,
   "id": "8eddb9ec-ff61-40f0-8ab7-c82786fa4b50",
   "metadata": {},
   "outputs": [
    {
     "name": "stdout",
     "output_type": "stream",
     "text": [
      "missing values in Aggregate Followers column:35\n"
     ]
    }
   ],
   "source": [
    "print('missing values in Aggregate Followers column:'+ str(df['Aggregate Followers'].isna().sum()))"
   ]
  },
  {
   "cell_type": "markdown",
   "id": "eb3bfed9-bfdc-4f33-a1a6-afa0587c8b11",
   "metadata": {},
   "source": [
    "(13) value_counts for all categorical columns"
   ]
  },
  {
   "cell_type": "code",
   "execution_count": 80,
   "id": "5eb30470-9848-4835-ba34-1cbf6b71c111",
   "metadata": {},
   "outputs": [
    {
     "data": {
      "text/plain": [
       "2014    163\n",
       "2015     68\n",
       "Name: Year, dtype: int64"
      ]
     },
     "execution_count": 80,
     "metadata": {},
     "output_type": "execute_result"
    }
   ],
   "source": [
    "df['Year'].value_counts()"
   ]
  },
  {
   "cell_type": "code",
   "execution_count": 81,
   "id": "aa05b8ba-fc6a-4ea0-bc6c-4aa18e698f49",
   "metadata": {},
   "outputs": [
    {
     "data": {
      "text/plain": [
       "1     65\n",
       "8     54\n",
       "3     46\n",
       "12    13\n",
       "9     13\n",
       "10    12\n",
       "2     12\n",
       "15    10\n",
       "6      3\n",
       "7      2\n",
       "4      1\n",
       "Name: Genre, dtype: int64"
      ]
     },
     "execution_count": 81,
     "metadata": {},
     "output_type": "execute_result"
    }
   ],
   "source": [
    "df['Genre'].value_counts()"
   ]
  },
  {
   "cell_type": "markdown",
   "id": "c09c583e-0bf5-4746-a782-d48ed39b44ea",
   "metadata": {},
   "source": [
    "(14) Subset your DataFrame based on one condition (in this case, the condition will only output the movies that were released in 2015)"
   ]
  },
  {
   "cell_type": "code",
   "execution_count": 82,
   "id": "e19dba50-df63-46a2-b286-e7fe38114748",
   "metadata": {},
   "outputs": [
    {
     "name": "stdout",
     "output_type": "stream",
     "text": [
      "                       Movie  Year  Ratings  Genre      Gross       Budget  \\\n",
      "163           Jurassic World  2015      7.3      1  643000000  150000000.0   \n",
      "164  Avengers: Age of Ultron  2015      7.8      1  458000000  250000000.0   \n",
      "165                Furious 7  2015      7.4      1  350000000  190000000.0   \n",
      "166               Inside Out  2015      8.6     12  345000000  175000000.0   \n",
      "167                  Minions  2015      6.6      1  325000000   74000000.0   \n",
      "..                       ...   ...      ...    ...        ...          ...   \n",
      "226                 Child 44  2015      6.4      4    1210000   50000000.0   \n",
      "227                    Aloha  2015      5.5     15   21000000   37000000.0   \n",
      "228      Unfinished Business  2015      5.4      8   10200000   35000000.0   \n",
      "229                 War Room  2015      5.4      1   12300000    3000000.0   \n",
      "230              The Gallows  2015      4.4     15   22600000     100000.0   \n",
      "\n",
      "     Screens  Sequel  Sentiment     Views  Likes  Dislikes  Comments  \\\n",
      "163   4274.0       4          1   9143740  34746      1074      5107   \n",
      "164   4276.0       2         21  10366624  31552       989      3843   \n",
      "165   4004.0       7        -17     59056    330         8        39   \n",
      "166   3946.0       1          2   1438926   4632       262       496   \n",
      "167   4301.0       2         -2   1341909   1607       764        48   \n",
      "..       ...     ...        ...       ...    ...       ...       ...   \n",
      "226     66.0       1          4   3701061   9325       641      1859   \n",
      "227   2815.0       1         13   7119456  18803      1128      2290   \n",
      "228   2777.0       1          7   3450614   6823       325       409   \n",
      "229      NaN       1         10     66872    400        67       201   \n",
      "230   2720.0       1         -5    659772   2841       431       606   \n",
      "\n",
      "     Aggregate Followers  \n",
      "163            6180000.0  \n",
      "164           10070000.0  \n",
      "165           11890000.0  \n",
      "166             232000.0  \n",
      "167             250000.0  \n",
      "..                   ...  \n",
      "226                  NaN  \n",
      "227                  NaN  \n",
      "228                  NaN  \n",
      "229                  NaN  \n",
      "230                  NaN  \n",
      "\n",
      "[68 rows x 14 columns]\n"
     ]
    }
   ],
   "source": [
    "print(df[df['Year'] == 2015])"
   ]
  },
  {
   "cell_type": "markdown",
   "id": "4d4eff31-a538-4e53-b50b-79832d43e442",
   "metadata": {},
   "source": [
    "(15) Subset your DataFrame based on two different conditions (in this case, the condition will only output the movies that were released in 2015 with ratings greater tham 5)"
   ]
  },
  {
   "cell_type": "code",
   "execution_count": 83,
   "id": "f3d3accb-1d44-4779-84fe-848f49b71c78",
   "metadata": {},
   "outputs": [
    {
     "data": {
      "text/html": [
       "<div>\n",
       "<style scoped>\n",
       "    .dataframe tbody tr th:only-of-type {\n",
       "        vertical-align: middle;\n",
       "    }\n",
       "\n",
       "    .dataframe tbody tr th {\n",
       "        vertical-align: top;\n",
       "    }\n",
       "\n",
       "    .dataframe thead th {\n",
       "        text-align: right;\n",
       "    }\n",
       "</style>\n",
       "<table border=\"1\" class=\"dataframe\">\n",
       "  <thead>\n",
       "    <tr style=\"text-align: right;\">\n",
       "      <th></th>\n",
       "      <th>Movie</th>\n",
       "      <th>Year</th>\n",
       "      <th>Ratings</th>\n",
       "      <th>Genre</th>\n",
       "      <th>Gross</th>\n",
       "      <th>Budget</th>\n",
       "      <th>Screens</th>\n",
       "      <th>Sequel</th>\n",
       "      <th>Sentiment</th>\n",
       "      <th>Views</th>\n",
       "      <th>Likes</th>\n",
       "      <th>Dislikes</th>\n",
       "      <th>Comments</th>\n",
       "      <th>Aggregate Followers</th>\n",
       "    </tr>\n",
       "  </thead>\n",
       "  <tbody>\n",
       "    <tr>\n",
       "      <th>163</th>\n",
       "      <td>Jurassic World</td>\n",
       "      <td>2015</td>\n",
       "      <td>7.3</td>\n",
       "      <td>1</td>\n",
       "      <td>643000000</td>\n",
       "      <td>150000000.0</td>\n",
       "      <td>4274.0</td>\n",
       "      <td>4</td>\n",
       "      <td>1</td>\n",
       "      <td>9143740</td>\n",
       "      <td>34746</td>\n",
       "      <td>1074</td>\n",
       "      <td>5107</td>\n",
       "      <td>6180000.0</td>\n",
       "    </tr>\n",
       "    <tr>\n",
       "      <th>164</th>\n",
       "      <td>Avengers: Age of Ultron</td>\n",
       "      <td>2015</td>\n",
       "      <td>7.8</td>\n",
       "      <td>1</td>\n",
       "      <td>458000000</td>\n",
       "      <td>250000000.0</td>\n",
       "      <td>4276.0</td>\n",
       "      <td>2</td>\n",
       "      <td>21</td>\n",
       "      <td>10366624</td>\n",
       "      <td>31552</td>\n",
       "      <td>989</td>\n",
       "      <td>3843</td>\n",
       "      <td>10070000.0</td>\n",
       "    </tr>\n",
       "    <tr>\n",
       "      <th>165</th>\n",
       "      <td>Furious 7</td>\n",
       "      <td>2015</td>\n",
       "      <td>7.4</td>\n",
       "      <td>1</td>\n",
       "      <td>350000000</td>\n",
       "      <td>190000000.0</td>\n",
       "      <td>4004.0</td>\n",
       "      <td>7</td>\n",
       "      <td>-17</td>\n",
       "      <td>59056</td>\n",
       "      <td>330</td>\n",
       "      <td>8</td>\n",
       "      <td>39</td>\n",
       "      <td>11890000.0</td>\n",
       "    </tr>\n",
       "    <tr>\n",
       "      <th>166</th>\n",
       "      <td>Inside Out</td>\n",
       "      <td>2015</td>\n",
       "      <td>8.6</td>\n",
       "      <td>12</td>\n",
       "      <td>345000000</td>\n",
       "      <td>175000000.0</td>\n",
       "      <td>3946.0</td>\n",
       "      <td>1</td>\n",
       "      <td>2</td>\n",
       "      <td>1438926</td>\n",
       "      <td>4632</td>\n",
       "      <td>262</td>\n",
       "      <td>496</td>\n",
       "      <td>232000.0</td>\n",
       "    </tr>\n",
       "    <tr>\n",
       "      <th>167</th>\n",
       "      <td>Minions</td>\n",
       "      <td>2015</td>\n",
       "      <td>6.6</td>\n",
       "      <td>1</td>\n",
       "      <td>325000000</td>\n",
       "      <td>74000000.0</td>\n",
       "      <td>4301.0</td>\n",
       "      <td>2</td>\n",
       "      <td>-2</td>\n",
       "      <td>1341909</td>\n",
       "      <td>1607</td>\n",
       "      <td>764</td>\n",
       "      <td>48</td>\n",
       "      <td>250000.0</td>\n",
       "    </tr>\n",
       "    <tr>\n",
       "      <th>168</th>\n",
       "      <td>Pitch Perfect 2</td>\n",
       "      <td>2015</td>\n",
       "      <td>6.7</td>\n",
       "      <td>8</td>\n",
       "      <td>183000000</td>\n",
       "      <td>29000000.0</td>\n",
       "      <td>3473.0</td>\n",
       "      <td>2</td>\n",
       "      <td>1</td>\n",
       "      <td>9214467</td>\n",
       "      <td>39824</td>\n",
       "      <td>998</td>\n",
       "      <td>1987</td>\n",
       "      <td>7336000.0</td>\n",
       "    </tr>\n",
       "    <tr>\n",
       "      <th>169</th>\n",
       "      <td>Mission: Impossible - Rogue Nation</td>\n",
       "      <td>2015</td>\n",
       "      <td>7.8</td>\n",
       "      <td>3</td>\n",
       "      <td>171000000</td>\n",
       "      <td>150000000.0</td>\n",
       "      <td>3956.0</td>\n",
       "      <td>5</td>\n",
       "      <td>3</td>\n",
       "      <td>8748596</td>\n",
       "      <td>20352</td>\n",
       "      <td>649</td>\n",
       "      <td>1842</td>\n",
       "      <td>6605000.0</td>\n",
       "    </tr>\n",
       "    <tr>\n",
       "      <th>170</th>\n",
       "      <td>Home</td>\n",
       "      <td>2015</td>\n",
       "      <td>6.7</td>\n",
       "      <td>8</td>\n",
       "      <td>177000000</td>\n",
       "      <td>135000000.0</td>\n",
       "      <td>3708.0</td>\n",
       "      <td>1</td>\n",
       "      <td>-2</td>\n",
       "      <td>10341783</td>\n",
       "      <td>24413</td>\n",
       "      <td>1675</td>\n",
       "      <td>3426</td>\n",
       "      <td>5070000.0</td>\n",
       "    </tr>\n",
       "    <tr>\n",
       "      <th>172</th>\n",
       "      <td>The SpongeBob Movie: Sponge Out of Water</td>\n",
       "      <td>2015</td>\n",
       "      <td>6.1</td>\n",
       "      <td>8</td>\n",
       "      <td>162000000</td>\n",
       "      <td>74000000.0</td>\n",
       "      <td>3641.0</td>\n",
       "      <td>2</td>\n",
       "      <td>0</td>\n",
       "      <td>5536822</td>\n",
       "      <td>29411</td>\n",
       "      <td>1840</td>\n",
       "      <td>1281</td>\n",
       "      <td>184000.0</td>\n",
       "    </tr>\n",
       "    <tr>\n",
       "      <th>173</th>\n",
       "      <td>San Andreas</td>\n",
       "      <td>2015</td>\n",
       "      <td>6.4</td>\n",
       "      <td>1</td>\n",
       "      <td>154000000</td>\n",
       "      <td>110000000.0</td>\n",
       "      <td>3777.0</td>\n",
       "      <td>1</td>\n",
       "      <td>3</td>\n",
       "      <td>12632836</td>\n",
       "      <td>36508</td>\n",
       "      <td>2210</td>\n",
       "      <td>7559</td>\n",
       "      <td>9737600.0</td>\n",
       "    </tr>\n",
       "    <tr>\n",
       "      <th>174</th>\n",
       "      <td>Mad Max: Fury Road</td>\n",
       "      <td>2015</td>\n",
       "      <td>8.3</td>\n",
       "      <td>1</td>\n",
       "      <td>153000000</td>\n",
       "      <td>150000000.0</td>\n",
       "      <td>3702.0</td>\n",
       "      <td>4</td>\n",
       "      <td>-4</td>\n",
       "      <td>2732371</td>\n",
       "      <td>13030</td>\n",
       "      <td>497</td>\n",
       "      <td>1774</td>\n",
       "      <td>768700.0</td>\n",
       "    </tr>\n",
       "    <tr>\n",
       "      <th>175</th>\n",
       "      <td>Straight Outta Compton</td>\n",
       "      <td>2015</td>\n",
       "      <td>8.3</td>\n",
       "      <td>9</td>\n",
       "      <td>135000000</td>\n",
       "      <td>28000000.0</td>\n",
       "      <td>2757.0</td>\n",
       "      <td>1</td>\n",
       "      <td>5</td>\n",
       "      <td>848970</td>\n",
       "      <td>12607</td>\n",
       "      <td>237</td>\n",
       "      <td>1560</td>\n",
       "      <td>55618.0</td>\n",
       "    </tr>\n",
       "    <tr>\n",
       "      <th>176</th>\n",
       "      <td>Insurgent</td>\n",
       "      <td>2015</td>\n",
       "      <td>6.4</td>\n",
       "      <td>2</td>\n",
       "      <td>130000000</td>\n",
       "      <td>110000000.0</td>\n",
       "      <td>3875.0</td>\n",
       "      <td>2</td>\n",
       "      <td>-6</td>\n",
       "      <td>2834800</td>\n",
       "      <td>5664</td>\n",
       "      <td>5746</td>\n",
       "      <td>66</td>\n",
       "      <td>4240000.0</td>\n",
       "    </tr>\n",
       "    <tr>\n",
       "      <th>177</th>\n",
       "      <td>Spy</td>\n",
       "      <td>2015</td>\n",
       "      <td>7.3</td>\n",
       "      <td>1</td>\n",
       "      <td>110000000</td>\n",
       "      <td>65000000.0</td>\n",
       "      <td>3711.0</td>\n",
       "      <td>1</td>\n",
       "      <td>0</td>\n",
       "      <td>6649290</td>\n",
       "      <td>20750</td>\n",
       "      <td>750</td>\n",
       "      <td>1666</td>\n",
       "      <td>265000.0</td>\n",
       "    </tr>\n",
       "    <tr>\n",
       "      <th>178</th>\n",
       "      <td>Trainwreck</td>\n",
       "      <td>2015</td>\n",
       "      <td>6.7</td>\n",
       "      <td>12</td>\n",
       "      <td>105000000</td>\n",
       "      <td>35000000.0</td>\n",
       "      <td>3158.0</td>\n",
       "      <td>1</td>\n",
       "      <td>1</td>\n",
       "      <td>9511288</td>\n",
       "      <td>19903</td>\n",
       "      <td>2581</td>\n",
       "      <td>2955</td>\n",
       "      <td>2014000.0</td>\n",
       "    </tr>\n",
       "    <tr>\n",
       "      <th>179</th>\n",
       "      <td>Tomorrowland</td>\n",
       "      <td>2015</td>\n",
       "      <td>6.6</td>\n",
       "      <td>12</td>\n",
       "      <td>93200000</td>\n",
       "      <td>190000000.0</td>\n",
       "      <td>3972.0</td>\n",
       "      <td>1</td>\n",
       "      <td>1</td>\n",
       "      <td>999867</td>\n",
       "      <td>4212</td>\n",
       "      <td>66</td>\n",
       "      <td>250</td>\n",
       "      <td>1198000.0</td>\n",
       "    </tr>\n",
       "    <tr>\n",
       "      <th>180</th>\n",
       "      <td>Get Hard</td>\n",
       "      <td>2015</td>\n",
       "      <td>6.1</td>\n",
       "      <td>8</td>\n",
       "      <td>90400000</td>\n",
       "      <td>40000000.0</td>\n",
       "      <td>3175.0</td>\n",
       "      <td>1</td>\n",
       "      <td>6</td>\n",
       "      <td>10078326</td>\n",
       "      <td>26565</td>\n",
       "      <td>1418</td>\n",
       "      <td>2395</td>\n",
       "      <td>2939000.0</td>\n",
       "    </tr>\n",
       "    <tr>\n",
       "      <th>181</th>\n",
       "      <td>Terminator Genisys</td>\n",
       "      <td>2015</td>\n",
       "      <td>6.8</td>\n",
       "      <td>1</td>\n",
       "      <td>89400000</td>\n",
       "      <td>155000000.0</td>\n",
       "      <td>3758.0</td>\n",
       "      <td>5</td>\n",
       "      <td>1</td>\n",
       "      <td>84870</td>\n",
       "      <td>265</td>\n",
       "      <td>13</td>\n",
       "      <td>63</td>\n",
       "      <td>3877901.0</td>\n",
       "    </tr>\n",
       "    <tr>\n",
       "      <th>182</th>\n",
       "      <td>Ted 2</td>\n",
       "      <td>2015</td>\n",
       "      <td>6.6</td>\n",
       "      <td>8</td>\n",
       "      <td>81300000</td>\n",
       "      <td>68000000.0</td>\n",
       "      <td>3442.0</td>\n",
       "      <td>2</td>\n",
       "      <td>5</td>\n",
       "      <td>6711914</td>\n",
       "      <td>29903</td>\n",
       "      <td>984</td>\n",
       "      <td>1767</td>\n",
       "      <td>10988000.0</td>\n",
       "    </tr>\n",
       "    <tr>\n",
       "      <th>184</th>\n",
       "      <td>Pixels</td>\n",
       "      <td>2015</td>\n",
       "      <td>5.6</td>\n",
       "      <td>1</td>\n",
       "      <td>71000000</td>\n",
       "      <td>88000000.0</td>\n",
       "      <td>3723.0</td>\n",
       "      <td>1</td>\n",
       "      <td>10</td>\n",
       "      <td>5340100</td>\n",
       "      <td>26134</td>\n",
       "      <td>2007</td>\n",
       "      <td>3717</td>\n",
       "      <td>2466000.0</td>\n",
       "    </tr>\n",
       "    <tr>\n",
       "      <th>185</th>\n",
       "      <td>Magic Mike XXL</td>\n",
       "      <td>2015</td>\n",
       "      <td>6.2</td>\n",
       "      <td>8</td>\n",
       "      <td>65900000</td>\n",
       "      <td>14800000.0</td>\n",
       "      <td>3355.0</td>\n",
       "      <td>2</td>\n",
       "      <td>7</td>\n",
       "      <td>5128288</td>\n",
       "      <td>18475</td>\n",
       "      <td>858</td>\n",
       "      <td>1579</td>\n",
       "      <td>8392000.0</td>\n",
       "    </tr>\n",
       "    <tr>\n",
       "      <th>186</th>\n",
       "      <td>The Wedding Ringer</td>\n",
       "      <td>2015</td>\n",
       "      <td>6.7</td>\n",
       "      <td>8</td>\n",
       "      <td>64500000</td>\n",
       "      <td>23000000.0</td>\n",
       "      <td>3003.0</td>\n",
       "      <td>1</td>\n",
       "      <td>-8</td>\n",
       "      <td>4826940</td>\n",
       "      <td>10521</td>\n",
       "      <td>478</td>\n",
       "      <td>755</td>\n",
       "      <td>2284000.0</td>\n",
       "    </tr>\n",
       "    <tr>\n",
       "      <th>187</th>\n",
       "      <td>Vacation</td>\n",
       "      <td>2015</td>\n",
       "      <td>6.3</td>\n",
       "      <td>2</td>\n",
       "      <td>54900000</td>\n",
       "      <td>31000000.0</td>\n",
       "      <td>3411.0</td>\n",
       "      <td>5</td>\n",
       "      <td>13</td>\n",
       "      <td>2554327</td>\n",
       "      <td>10062</td>\n",
       "      <td>464</td>\n",
       "      <td>871</td>\n",
       "      <td>2347000.0</td>\n",
       "    </tr>\n",
       "    <tr>\n",
       "      <th>190</th>\n",
       "      <td>Jupiter Ascending</td>\n",
       "      <td>2015</td>\n",
       "      <td>5.5</td>\n",
       "      <td>1</td>\n",
       "      <td>47400000</td>\n",
       "      <td>176000000.0</td>\n",
       "      <td>3181.0</td>\n",
       "      <td>1</td>\n",
       "      <td>0</td>\n",
       "      <td>3920842</td>\n",
       "      <td>10535</td>\n",
       "      <td>565</td>\n",
       "      <td>1668</td>\n",
       "      <td>7460000.0</td>\n",
       "    </tr>\n",
       "    <tr>\n",
       "      <th>191</th>\n",
       "      <td>The Age of Adaline</td>\n",
       "      <td>2015</td>\n",
       "      <td>7.3</td>\n",
       "      <td>3</td>\n",
       "      <td>42500000</td>\n",
       "      <td>25000000.0</td>\n",
       "      <td>2991.0</td>\n",
       "      <td>1</td>\n",
       "      <td>11</td>\n",
       "      <td>11036701</td>\n",
       "      <td>50002</td>\n",
       "      <td>1005</td>\n",
       "      <td>3525</td>\n",
       "      <td>776000.0</td>\n",
       "    </tr>\n",
       "    <tr>\n",
       "      <th>192</th>\n",
       "      <td>Max</td>\n",
       "      <td>2015</td>\n",
       "      <td>7.0</td>\n",
       "      <td>1</td>\n",
       "      <td>41900000</td>\n",
       "      <td>20000000.0</td>\n",
       "      <td>2855.0</td>\n",
       "      <td>1</td>\n",
       "      <td>0</td>\n",
       "      <td>2947239</td>\n",
       "      <td>19201</td>\n",
       "      <td>625</td>\n",
       "      <td>1842</td>\n",
       "      <td>2113.0</td>\n",
       "    </tr>\n",
       "    <tr>\n",
       "      <th>193</th>\n",
       "      <td>The Longest Ride</td>\n",
       "      <td>2015</td>\n",
       "      <td>7.2</td>\n",
       "      <td>3</td>\n",
       "      <td>37400000</td>\n",
       "      <td>34000000.0</td>\n",
       "      <td>3366.0</td>\n",
       "      <td>1</td>\n",
       "      <td>19</td>\n",
       "      <td>2393017</td>\n",
       "      <td>13291</td>\n",
       "      <td>369</td>\n",
       "      <td>584</td>\n",
       "      <td>324925.0</td>\n",
       "    </tr>\n",
       "    <tr>\n",
       "      <th>194</th>\n",
       "      <td>The Gift</td>\n",
       "      <td>2015</td>\n",
       "      <td>7.6</td>\n",
       "      <td>1</td>\n",
       "      <td>36100000</td>\n",
       "      <td>5000000.0</td>\n",
       "      <td>1648.0</td>\n",
       "      <td>1</td>\n",
       "      <td>11</td>\n",
       "      <td>2513544</td>\n",
       "      <td>6970</td>\n",
       "      <td>270</td>\n",
       "      <td>1105</td>\n",
       "      <td>1655987.0</td>\n",
       "    </tr>\n",
       "    <tr>\n",
       "      <th>197</th>\n",
       "      <td>The DUFF</td>\n",
       "      <td>2015</td>\n",
       "      <td>6.6</td>\n",
       "      <td>8</td>\n",
       "      <td>34000000</td>\n",
       "      <td>8500000.0</td>\n",
       "      <td>2575.0</td>\n",
       "      <td>1</td>\n",
       "      <td>2</td>\n",
       "      <td>12792898</td>\n",
       "      <td>56001</td>\n",
       "      <td>2083</td>\n",
       "      <td>4102</td>\n",
       "      <td>6714000.0</td>\n",
       "    </tr>\n",
       "    <tr>\n",
       "      <th>198</th>\n",
       "      <td>Woman in Gold</td>\n",
       "      <td>2015</td>\n",
       "      <td>7.4</td>\n",
       "      <td>10</td>\n",
       "      <td>33300000</td>\n",
       "      <td>11000000.0</td>\n",
       "      <td>258.0</td>\n",
       "      <td>1</td>\n",
       "      <td>19</td>\n",
       "      <td>6495</td>\n",
       "      <td>82</td>\n",
       "      <td>3</td>\n",
       "      <td>7</td>\n",
       "      <td>675000.0</td>\n",
       "    </tr>\n",
       "    <tr>\n",
       "      <th>199</th>\n",
       "      <td>Entourage</td>\n",
       "      <td>2015</td>\n",
       "      <td>7.1</td>\n",
       "      <td>3</td>\n",
       "      <td>32400000</td>\n",
       "      <td>30000000.0</td>\n",
       "      <td>3108.0</td>\n",
       "      <td>1</td>\n",
       "      <td>6</td>\n",
       "      <td>1841293</td>\n",
       "      <td>5879</td>\n",
       "      <td>314</td>\n",
       "      <td>634</td>\n",
       "      <td>788000.0</td>\n",
       "    </tr>\n",
       "    <tr>\n",
       "      <th>200</th>\n",
       "      <td>Paper Towns</td>\n",
       "      <td>2015</td>\n",
       "      <td>6.9</td>\n",
       "      <td>3</td>\n",
       "      <td>31400000</td>\n",
       "      <td>12000000.0</td>\n",
       "      <td>3031.0</td>\n",
       "      <td>1</td>\n",
       "      <td>6</td>\n",
       "      <td>2854910</td>\n",
       "      <td>23254</td>\n",
       "      <td>459</td>\n",
       "      <td>1087</td>\n",
       "      <td>4184000.0</td>\n",
       "    </tr>\n",
       "    <tr>\n",
       "      <th>201</th>\n",
       "      <td>The Lazarus Effect</td>\n",
       "      <td>2015</td>\n",
       "      <td>5.2</td>\n",
       "      <td>8</td>\n",
       "      <td>25800000</td>\n",
       "      <td>3300000.0</td>\n",
       "      <td>2666.0</td>\n",
       "      <td>1</td>\n",
       "      <td>7</td>\n",
       "      <td>4442147</td>\n",
       "      <td>10605</td>\n",
       "      <td>691</td>\n",
       "      <td>2739</td>\n",
       "      <td>2007000.0</td>\n",
       "    </tr>\n",
       "    <tr>\n",
       "      <th>202</th>\n",
       "      <td>Sinister 2</td>\n",
       "      <td>2015</td>\n",
       "      <td>5.5</td>\n",
       "      <td>1</td>\n",
       "      <td>19000000</td>\n",
       "      <td>10000000.0</td>\n",
       "      <td>2766.0</td>\n",
       "      <td>2</td>\n",
       "      <td>-38</td>\n",
       "      <td>11037833</td>\n",
       "      <td>36874</td>\n",
       "      <td>1885</td>\n",
       "      <td>4360</td>\n",
       "      <td>5699.0</td>\n",
       "    </tr>\n",
       "    <tr>\n",
       "      <th>203</th>\n",
       "      <td>Ricki and the Flash</td>\n",
       "      <td>2015</td>\n",
       "      <td>6.1</td>\n",
       "      <td>3</td>\n",
       "      <td>23500000</td>\n",
       "      <td>18000000.0</td>\n",
       "      <td>1603.0</td>\n",
       "      <td>1</td>\n",
       "      <td>25</td>\n",
       "      <td>638374</td>\n",
       "      <td>4018</td>\n",
       "      <td>130</td>\n",
       "      <td>269</td>\n",
       "      <td>1887.0</td>\n",
       "    </tr>\n",
       "    <tr>\n",
       "      <th>204</th>\n",
       "      <td>Project Almanac</td>\n",
       "      <td>2015</td>\n",
       "      <td>6.4</td>\n",
       "      <td>8</td>\n",
       "      <td>22300000</td>\n",
       "      <td>12000000.0</td>\n",
       "      <td>2893.0</td>\n",
       "      <td>1</td>\n",
       "      <td>7</td>\n",
       "      <td>6646785</td>\n",
       "      <td>16041</td>\n",
       "      <td>955</td>\n",
       "      <td>2787</td>\n",
       "      <td>253499.0</td>\n",
       "    </tr>\n",
       "    <tr>\n",
       "      <th>205</th>\n",
       "      <td>Hitman: Agent 47</td>\n",
       "      <td>2015</td>\n",
       "      <td>5.9</td>\n",
       "      <td>8</td>\n",
       "      <td>16100000</td>\n",
       "      <td>35000000.0</td>\n",
       "      <td>3261.0</td>\n",
       "      <td>1</td>\n",
       "      <td>10</td>\n",
       "      <td>13154873</td>\n",
       "      <td>46684</td>\n",
       "      <td>3565</td>\n",
       "      <td>8578</td>\n",
       "      <td>209000.0</td>\n",
       "    </tr>\n",
       "    <tr>\n",
       "      <th>206</th>\n",
       "      <td>Dope</td>\n",
       "      <td>2015</td>\n",
       "      <td>7.5</td>\n",
       "      <td>8</td>\n",
       "      <td>16800000</td>\n",
       "      <td>700000.0</td>\n",
       "      <td>2002.0</td>\n",
       "      <td>1</td>\n",
       "      <td>2</td>\n",
       "      <td>50444</td>\n",
       "      <td>238</td>\n",
       "      <td>3</td>\n",
       "      <td>28</td>\n",
       "      <td>986572.0</td>\n",
       "    </tr>\n",
       "    <tr>\n",
       "      <th>207</th>\n",
       "      <td>Hot Tub Time Machine 2</td>\n",
       "      <td>2015</td>\n",
       "      <td>5.1</td>\n",
       "      <td>8</td>\n",
       "      <td>12300000</td>\n",
       "      <td>14000000.0</td>\n",
       "      <td>2880.0</td>\n",
       "      <td>2</td>\n",
       "      <td>9</td>\n",
       "      <td>11496</td>\n",
       "      <td>194</td>\n",
       "      <td>9</td>\n",
       "      <td>31</td>\n",
       "      <td>1891977.0</td>\n",
       "    </tr>\n",
       "    <tr>\n",
       "      <th>208</th>\n",
       "      <td>American Ultra</td>\n",
       "      <td>2015</td>\n",
       "      <td>6.5</td>\n",
       "      <td>1</td>\n",
       "      <td>10900000</td>\n",
       "      <td>28000000.0</td>\n",
       "      <td>2778.0</td>\n",
       "      <td>1</td>\n",
       "      <td>21</td>\n",
       "      <td>2996539</td>\n",
       "      <td>1874</td>\n",
       "      <td>32</td>\n",
       "      <td>189</td>\n",
       "      <td>155000.0</td>\n",
       "    </tr>\n",
       "    <tr>\n",
       "      <th>209</th>\n",
       "      <td>The Gunman</td>\n",
       "      <td>2015</td>\n",
       "      <td>5.8</td>\n",
       "      <td>8</td>\n",
       "      <td>10600000</td>\n",
       "      <td>40000000.0</td>\n",
       "      <td>2816.0</td>\n",
       "      <td>1</td>\n",
       "      <td>3</td>\n",
       "      <td>3098749</td>\n",
       "      <td>4311</td>\n",
       "      <td>341</td>\n",
       "      <td>881</td>\n",
       "      <td>1520000.0</td>\n",
       "    </tr>\n",
       "    <tr>\n",
       "      <th>210</th>\n",
       "      <td>Mortdecai</td>\n",
       "      <td>2015</td>\n",
       "      <td>5.5</td>\n",
       "      <td>8</td>\n",
       "      <td>7610000</td>\n",
       "      <td>60000000.0</td>\n",
       "      <td>2648.0</td>\n",
       "      <td>1</td>\n",
       "      <td>-2</td>\n",
       "      <td>3850758</td>\n",
       "      <td>13363</td>\n",
       "      <td>453</td>\n",
       "      <td>1276</td>\n",
       "      <td>3045000.0</td>\n",
       "    </tr>\n",
       "    <tr>\n",
       "      <th>211</th>\n",
       "      <td>Blackhat</td>\n",
       "      <td>2015</td>\n",
       "      <td>5.4</td>\n",
       "      <td>3</td>\n",
       "      <td>7100000</td>\n",
       "      <td>70000000.0</td>\n",
       "      <td>2567.0</td>\n",
       "      <td>1</td>\n",
       "      <td>4</td>\n",
       "      <td>2409338</td>\n",
       "      <td>6923</td>\n",
       "      <td>340</td>\n",
       "      <td>714</td>\n",
       "      <td>1334000.0</td>\n",
       "    </tr>\n",
       "    <tr>\n",
       "      <th>212</th>\n",
       "      <td>Me and Earl and the Dying Girl</td>\n",
       "      <td>2015</td>\n",
       "      <td>8.2</td>\n",
       "      <td>8</td>\n",
       "      <td>6740000</td>\n",
       "      <td>8000000.0</td>\n",
       "      <td>34.0</td>\n",
       "      <td>1</td>\n",
       "      <td>15</td>\n",
       "      <td>4032265</td>\n",
       "      <td>18398</td>\n",
       "      <td>302</td>\n",
       "      <td>1298</td>\n",
       "      <td>2208.0</td>\n",
       "    </tr>\n",
       "    <tr>\n",
       "      <th>214</th>\n",
       "      <td>Maggie</td>\n",
       "      <td>2015</td>\n",
       "      <td>5.6</td>\n",
       "      <td>3</td>\n",
       "      <td>131000</td>\n",
       "      <td>4500000.0</td>\n",
       "      <td>79.0</td>\n",
       "      <td>1</td>\n",
       "      <td>10</td>\n",
       "      <td>5085068</td>\n",
       "      <td>14359</td>\n",
       "      <td>600</td>\n",
       "      <td>2468</td>\n",
       "      <td>3744000.0</td>\n",
       "    </tr>\n",
       "    <tr>\n",
       "      <th>215</th>\n",
       "      <td>Americons</td>\n",
       "      <td>2015</td>\n",
       "      <td>7.3</td>\n",
       "      <td>3</td>\n",
       "      <td>129000</td>\n",
       "      <td>4000000.0</td>\n",
       "      <td>14.0</td>\n",
       "      <td>1</td>\n",
       "      <td>0</td>\n",
       "      <td>63724</td>\n",
       "      <td>115</td>\n",
       "      <td>28</td>\n",
       "      <td>14</td>\n",
       "      <td>129000.0</td>\n",
       "    </tr>\n",
       "    <tr>\n",
       "      <th>216</th>\n",
       "      <td>Road Hard</td>\n",
       "      <td>2015</td>\n",
       "      <td>6.3</td>\n",
       "      <td>3</td>\n",
       "      <td>106000</td>\n",
       "      <td>1500000.0</td>\n",
       "      <td>22.0</td>\n",
       "      <td>1</td>\n",
       "      <td>14</td>\n",
       "      <td>44963</td>\n",
       "      <td>109</td>\n",
       "      <td>27</td>\n",
       "      <td>42</td>\n",
       "      <td>1188000.0</td>\n",
       "    </tr>\n",
       "    <tr>\n",
       "      <th>217</th>\n",
       "      <td>Ant-Man</td>\n",
       "      <td>2015</td>\n",
       "      <td>7.8</td>\n",
       "      <td>1</td>\n",
       "      <td>169000000</td>\n",
       "      <td>130000000.0</td>\n",
       "      <td>3856.0</td>\n",
       "      <td>1</td>\n",
       "      <td>18</td>\n",
       "      <td>9597644</td>\n",
       "      <td>32558</td>\n",
       "      <td>2672</td>\n",
       "      <td>8359</td>\n",
       "      <td>NaN</td>\n",
       "    </tr>\n",
       "    <tr>\n",
       "      <th>218</th>\n",
       "      <td>Southpaw</td>\n",
       "      <td>2015</td>\n",
       "      <td>7.7</td>\n",
       "      <td>1</td>\n",
       "      <td>49500000</td>\n",
       "      <td>30000000.0</td>\n",
       "      <td>2772.0</td>\n",
       "      <td>1</td>\n",
       "      <td>6</td>\n",
       "      <td>11476882</td>\n",
       "      <td>40496</td>\n",
       "      <td>1383</td>\n",
       "      <td>4435</td>\n",
       "      <td>NaN</td>\n",
       "    </tr>\n",
       "    <tr>\n",
       "      <th>219</th>\n",
       "      <td>Ex Machina</td>\n",
       "      <td>2015</td>\n",
       "      <td>7.7</td>\n",
       "      <td>3</td>\n",
       "      <td>25400000</td>\n",
       "      <td>15000000.0</td>\n",
       "      <td>1255.0</td>\n",
       "      <td>1</td>\n",
       "      <td>3</td>\n",
       "      <td>419470</td>\n",
       "      <td>2218</td>\n",
       "      <td>46</td>\n",
       "      <td>239</td>\n",
       "      <td>NaN</td>\n",
       "    </tr>\n",
       "    <tr>\n",
       "      <th>220</th>\n",
       "      <td>The Man from U.N.C.L.E.</td>\n",
       "      <td>2015</td>\n",
       "      <td>7.6</td>\n",
       "      <td>6</td>\n",
       "      <td>34600000</td>\n",
       "      <td>75000000.0</td>\n",
       "      <td>3638.0</td>\n",
       "      <td>1</td>\n",
       "      <td>8</td>\n",
       "      <td>5216680</td>\n",
       "      <td>20010</td>\n",
       "      <td>500</td>\n",
       "      <td>2300</td>\n",
       "      <td>NaN</td>\n",
       "    </tr>\n",
       "    <tr>\n",
       "      <th>221</th>\n",
       "      <td>Cinderella</td>\n",
       "      <td>2015</td>\n",
       "      <td>7.1</td>\n",
       "      <td>8</td>\n",
       "      <td>201000000</td>\n",
       "      <td>95000000.0</td>\n",
       "      <td>3845.0</td>\n",
       "      <td>1</td>\n",
       "      <td>2</td>\n",
       "      <td>10164908</td>\n",
       "      <td>22726</td>\n",
       "      <td>4245</td>\n",
       "      <td>5262</td>\n",
       "      <td>NaN</td>\n",
       "    </tr>\n",
       "    <tr>\n",
       "      <th>222</th>\n",
       "      <td>Chappie</td>\n",
       "      <td>2015</td>\n",
       "      <td>7.0</td>\n",
       "      <td>1</td>\n",
       "      <td>31600000</td>\n",
       "      <td>49000000.0</td>\n",
       "      <td>3201.0</td>\n",
       "      <td>1</td>\n",
       "      <td>8</td>\n",
       "      <td>7384182</td>\n",
       "      <td>23597</td>\n",
       "      <td>786</td>\n",
       "      <td>3481</td>\n",
       "      <td>NaN</td>\n",
       "    </tr>\n",
       "    <tr>\n",
       "      <th>223</th>\n",
       "      <td>Brotherly Love</td>\n",
       "      <td>2015</td>\n",
       "      <td>6.9</td>\n",
       "      <td>8</td>\n",
       "      <td>444000</td>\n",
       "      <td>1900000.0</td>\n",
       "      <td>200.0</td>\n",
       "      <td>1</td>\n",
       "      <td>0</td>\n",
       "      <td>890619</td>\n",
       "      <td>6352</td>\n",
       "      <td>293</td>\n",
       "      <td>700</td>\n",
       "      <td>NaN</td>\n",
       "    </tr>\n",
       "    <tr>\n",
       "      <th>224</th>\n",
       "      <td>Run All Night</td>\n",
       "      <td>2015</td>\n",
       "      <td>6.6</td>\n",
       "      <td>8</td>\n",
       "      <td>26400000</td>\n",
       "      <td>50000000.0</td>\n",
       "      <td>3171.0</td>\n",
       "      <td>1</td>\n",
       "      <td>3</td>\n",
       "      <td>5671767</td>\n",
       "      <td>10073</td>\n",
       "      <td>480</td>\n",
       "      <td>1712</td>\n",
       "      <td>NaN</td>\n",
       "    </tr>\n",
       "    <tr>\n",
       "      <th>225</th>\n",
       "      <td>The Second Best Exotic Marigold Hotel</td>\n",
       "      <td>2015</td>\n",
       "      <td>6.6</td>\n",
       "      <td>1</td>\n",
       "      <td>33100000</td>\n",
       "      <td>10000000.0</td>\n",
       "      <td>1573.0</td>\n",
       "      <td>2</td>\n",
       "      <td>26</td>\n",
       "      <td>831044</td>\n",
       "      <td>2427</td>\n",
       "      <td>99</td>\n",
       "      <td>247</td>\n",
       "      <td>NaN</td>\n",
       "    </tr>\n",
       "    <tr>\n",
       "      <th>226</th>\n",
       "      <td>Child 44</td>\n",
       "      <td>2015</td>\n",
       "      <td>6.4</td>\n",
       "      <td>4</td>\n",
       "      <td>1210000</td>\n",
       "      <td>50000000.0</td>\n",
       "      <td>66.0</td>\n",
       "      <td>1</td>\n",
       "      <td>4</td>\n",
       "      <td>3701061</td>\n",
       "      <td>9325</td>\n",
       "      <td>641</td>\n",
       "      <td>1859</td>\n",
       "      <td>NaN</td>\n",
       "    </tr>\n",
       "    <tr>\n",
       "      <th>227</th>\n",
       "      <td>Aloha</td>\n",
       "      <td>2015</td>\n",
       "      <td>5.5</td>\n",
       "      <td>15</td>\n",
       "      <td>21000000</td>\n",
       "      <td>37000000.0</td>\n",
       "      <td>2815.0</td>\n",
       "      <td>1</td>\n",
       "      <td>13</td>\n",
       "      <td>7119456</td>\n",
       "      <td>18803</td>\n",
       "      <td>1128</td>\n",
       "      <td>2290</td>\n",
       "      <td>NaN</td>\n",
       "    </tr>\n",
       "    <tr>\n",
       "      <th>228</th>\n",
       "      <td>Unfinished Business</td>\n",
       "      <td>2015</td>\n",
       "      <td>5.4</td>\n",
       "      <td>8</td>\n",
       "      <td>10200000</td>\n",
       "      <td>35000000.0</td>\n",
       "      <td>2777.0</td>\n",
       "      <td>1</td>\n",
       "      <td>7</td>\n",
       "      <td>3450614</td>\n",
       "      <td>6823</td>\n",
       "      <td>325</td>\n",
       "      <td>409</td>\n",
       "      <td>NaN</td>\n",
       "    </tr>\n",
       "    <tr>\n",
       "      <th>229</th>\n",
       "      <td>War Room</td>\n",
       "      <td>2015</td>\n",
       "      <td>5.4</td>\n",
       "      <td>1</td>\n",
       "      <td>12300000</td>\n",
       "      <td>3000000.0</td>\n",
       "      <td>NaN</td>\n",
       "      <td>1</td>\n",
       "      <td>10</td>\n",
       "      <td>66872</td>\n",
       "      <td>400</td>\n",
       "      <td>67</td>\n",
       "      <td>201</td>\n",
       "      <td>NaN</td>\n",
       "    </tr>\n",
       "  </tbody>\n",
       "</table>\n",
       "</div>"
      ],
      "text/plain": [
       "                                        Movie  Year  Ratings  Genre  \\\n",
       "163                            Jurassic World  2015      7.3      1   \n",
       "164                   Avengers: Age of Ultron  2015      7.8      1   \n",
       "165                                 Furious 7  2015      7.4      1   \n",
       "166                                Inside Out  2015      8.6     12   \n",
       "167                                   Minions  2015      6.6      1   \n",
       "168                           Pitch Perfect 2  2015      6.7      8   \n",
       "169        Mission: Impossible - Rogue Nation  2015      7.8      3   \n",
       "170                                      Home  2015      6.7      8   \n",
       "172  The SpongeBob Movie: Sponge Out of Water  2015      6.1      8   \n",
       "173                               San Andreas  2015      6.4      1   \n",
       "174                        Mad Max: Fury Road  2015      8.3      1   \n",
       "175                    Straight Outta Compton  2015      8.3      9   \n",
       "176                                 Insurgent  2015      6.4      2   \n",
       "177                                       Spy  2015      7.3      1   \n",
       "178                                Trainwreck  2015      6.7     12   \n",
       "179                              Tomorrowland  2015      6.6     12   \n",
       "180                                  Get Hard  2015      6.1      8   \n",
       "181                        Terminator Genisys  2015      6.8      1   \n",
       "182                                     Ted 2  2015      6.6      8   \n",
       "184                                    Pixels  2015      5.6      1   \n",
       "185                            Magic Mike XXL  2015      6.2      8   \n",
       "186                        The Wedding Ringer  2015      6.7      8   \n",
       "187                                  Vacation  2015      6.3      2   \n",
       "190                         Jupiter Ascending  2015      5.5      1   \n",
       "191                        The Age of Adaline  2015      7.3      3   \n",
       "192                                       Max  2015      7.0      1   \n",
       "193                          The Longest Ride  2015      7.2      3   \n",
       "194                                  The Gift  2015      7.6      1   \n",
       "197                                  The DUFF  2015      6.6      8   \n",
       "198                             Woman in Gold  2015      7.4     10   \n",
       "199                                 Entourage  2015      7.1      3   \n",
       "200                               Paper Towns  2015      6.9      3   \n",
       "201                        The Lazarus Effect  2015      5.2      8   \n",
       "202                                Sinister 2  2015      5.5      1   \n",
       "203                       Ricki and the Flash  2015      6.1      3   \n",
       "204                           Project Almanac  2015      6.4      8   \n",
       "205                          Hitman: Agent 47  2015      5.9      8   \n",
       "206                                      Dope  2015      7.5      8   \n",
       "207                    Hot Tub Time Machine 2  2015      5.1      8   \n",
       "208                            American Ultra  2015      6.5      1   \n",
       "209                                The Gunman  2015      5.8      8   \n",
       "210                                 Mortdecai  2015      5.5      8   \n",
       "211                                  Blackhat  2015      5.4      3   \n",
       "212            Me and Earl and the Dying Girl  2015      8.2      8   \n",
       "214                                    Maggie  2015      5.6      3   \n",
       "215                                 Americons  2015      7.3      3   \n",
       "216                                 Road Hard  2015      6.3      3   \n",
       "217                                   Ant-Man  2015      7.8      1   \n",
       "218                                  Southpaw  2015      7.7      1   \n",
       "219                                Ex Machina  2015      7.7      3   \n",
       "220                   The Man from U.N.C.L.E.  2015      7.6      6   \n",
       "221                                Cinderella  2015      7.1      8   \n",
       "222                                   Chappie  2015      7.0      1   \n",
       "223                            Brotherly Love  2015      6.9      8   \n",
       "224                             Run All Night  2015      6.6      8   \n",
       "225     The Second Best Exotic Marigold Hotel  2015      6.6      1   \n",
       "226                                  Child 44  2015      6.4      4   \n",
       "227                                     Aloha  2015      5.5     15   \n",
       "228                       Unfinished Business  2015      5.4      8   \n",
       "229                                  War Room  2015      5.4      1   \n",
       "\n",
       "         Gross       Budget  Screens  Sequel  Sentiment     Views  Likes  \\\n",
       "163  643000000  150000000.0   4274.0       4          1   9143740  34746   \n",
       "164  458000000  250000000.0   4276.0       2         21  10366624  31552   \n",
       "165  350000000  190000000.0   4004.0       7        -17     59056    330   \n",
       "166  345000000  175000000.0   3946.0       1          2   1438926   4632   \n",
       "167  325000000   74000000.0   4301.0       2         -2   1341909   1607   \n",
       "168  183000000   29000000.0   3473.0       2          1   9214467  39824   \n",
       "169  171000000  150000000.0   3956.0       5          3   8748596  20352   \n",
       "170  177000000  135000000.0   3708.0       1         -2  10341783  24413   \n",
       "172  162000000   74000000.0   3641.0       2          0   5536822  29411   \n",
       "173  154000000  110000000.0   3777.0       1          3  12632836  36508   \n",
       "174  153000000  150000000.0   3702.0       4         -4   2732371  13030   \n",
       "175  135000000   28000000.0   2757.0       1          5    848970  12607   \n",
       "176  130000000  110000000.0   3875.0       2         -6   2834800   5664   \n",
       "177  110000000   65000000.0   3711.0       1          0   6649290  20750   \n",
       "178  105000000   35000000.0   3158.0       1          1   9511288  19903   \n",
       "179   93200000  190000000.0   3972.0       1          1    999867   4212   \n",
       "180   90400000   40000000.0   3175.0       1          6  10078326  26565   \n",
       "181   89400000  155000000.0   3758.0       5          1     84870    265   \n",
       "182   81300000   68000000.0   3442.0       2          5   6711914  29903   \n",
       "184   71000000   88000000.0   3723.0       1         10   5340100  26134   \n",
       "185   65900000   14800000.0   3355.0       2          7   5128288  18475   \n",
       "186   64500000   23000000.0   3003.0       1         -8   4826940  10521   \n",
       "187   54900000   31000000.0   3411.0       5         13   2554327  10062   \n",
       "190   47400000  176000000.0   3181.0       1          0   3920842  10535   \n",
       "191   42500000   25000000.0   2991.0       1         11  11036701  50002   \n",
       "192   41900000   20000000.0   2855.0       1          0   2947239  19201   \n",
       "193   37400000   34000000.0   3366.0       1         19   2393017  13291   \n",
       "194   36100000    5000000.0   1648.0       1         11   2513544   6970   \n",
       "197   34000000    8500000.0   2575.0       1          2  12792898  56001   \n",
       "198   33300000   11000000.0    258.0       1         19      6495     82   \n",
       "199   32400000   30000000.0   3108.0       1          6   1841293   5879   \n",
       "200   31400000   12000000.0   3031.0       1          6   2854910  23254   \n",
       "201   25800000    3300000.0   2666.0       1          7   4442147  10605   \n",
       "202   19000000   10000000.0   2766.0       2        -38  11037833  36874   \n",
       "203   23500000   18000000.0   1603.0       1         25    638374   4018   \n",
       "204   22300000   12000000.0   2893.0       1          7   6646785  16041   \n",
       "205   16100000   35000000.0   3261.0       1         10  13154873  46684   \n",
       "206   16800000     700000.0   2002.0       1          2     50444    238   \n",
       "207   12300000   14000000.0   2880.0       2          9     11496    194   \n",
       "208   10900000   28000000.0   2778.0       1         21   2996539   1874   \n",
       "209   10600000   40000000.0   2816.0       1          3   3098749   4311   \n",
       "210    7610000   60000000.0   2648.0       1         -2   3850758  13363   \n",
       "211    7100000   70000000.0   2567.0       1          4   2409338   6923   \n",
       "212    6740000    8000000.0     34.0       1         15   4032265  18398   \n",
       "214     131000    4500000.0     79.0       1         10   5085068  14359   \n",
       "215     129000    4000000.0     14.0       1          0     63724    115   \n",
       "216     106000    1500000.0     22.0       1         14     44963    109   \n",
       "217  169000000  130000000.0   3856.0       1         18   9597644  32558   \n",
       "218   49500000   30000000.0   2772.0       1          6  11476882  40496   \n",
       "219   25400000   15000000.0   1255.0       1          3    419470   2218   \n",
       "220   34600000   75000000.0   3638.0       1          8   5216680  20010   \n",
       "221  201000000   95000000.0   3845.0       1          2  10164908  22726   \n",
       "222   31600000   49000000.0   3201.0       1          8   7384182  23597   \n",
       "223     444000    1900000.0    200.0       1          0    890619   6352   \n",
       "224   26400000   50000000.0   3171.0       1          3   5671767  10073   \n",
       "225   33100000   10000000.0   1573.0       2         26    831044   2427   \n",
       "226    1210000   50000000.0     66.0       1          4   3701061   9325   \n",
       "227   21000000   37000000.0   2815.0       1         13   7119456  18803   \n",
       "228   10200000   35000000.0   2777.0       1          7   3450614   6823   \n",
       "229   12300000    3000000.0      NaN       1         10     66872    400   \n",
       "\n",
       "     Dislikes  Comments  Aggregate Followers  \n",
       "163      1074      5107            6180000.0  \n",
       "164       989      3843           10070000.0  \n",
       "165         8        39           11890000.0  \n",
       "166       262       496             232000.0  \n",
       "167       764        48             250000.0  \n",
       "168       998      1987            7336000.0  \n",
       "169       649      1842            6605000.0  \n",
       "170      1675      3426            5070000.0  \n",
       "172      1840      1281             184000.0  \n",
       "173      2210      7559            9737600.0  \n",
       "174       497      1774             768700.0  \n",
       "175       237      1560              55618.0  \n",
       "176      5746        66            4240000.0  \n",
       "177       750      1666             265000.0  \n",
       "178      2581      2955            2014000.0  \n",
       "179        66       250            1198000.0  \n",
       "180      1418      2395            2939000.0  \n",
       "181        13        63            3877901.0  \n",
       "182       984      1767           10988000.0  \n",
       "184      2007      3717            2466000.0  \n",
       "185       858      1579            8392000.0  \n",
       "186       478       755            2284000.0  \n",
       "187       464       871            2347000.0  \n",
       "190       565      1668            7460000.0  \n",
       "191      1005      3525             776000.0  \n",
       "192       625      1842               2113.0  \n",
       "193       369       584             324925.0  \n",
       "194       270      1105            1655987.0  \n",
       "197      2083      4102            6714000.0  \n",
       "198         3         7             675000.0  \n",
       "199       314       634             788000.0  \n",
       "200       459      1087            4184000.0  \n",
       "201       691      2739            2007000.0  \n",
       "202      1885      4360               5699.0  \n",
       "203       130       269               1887.0  \n",
       "204       955      2787             253499.0  \n",
       "205      3565      8578             209000.0  \n",
       "206         3        28             986572.0  \n",
       "207         9        31            1891977.0  \n",
       "208        32       189             155000.0  \n",
       "209       341       881            1520000.0  \n",
       "210       453      1276            3045000.0  \n",
       "211       340       714            1334000.0  \n",
       "212       302      1298               2208.0  \n",
       "214       600      2468            3744000.0  \n",
       "215        28        14             129000.0  \n",
       "216        27        42            1188000.0  \n",
       "217      2672      8359                  NaN  \n",
       "218      1383      4435                  NaN  \n",
       "219        46       239                  NaN  \n",
       "220       500      2300                  NaN  \n",
       "221      4245      5262                  NaN  \n",
       "222       786      3481                  NaN  \n",
       "223       293       700                  NaN  \n",
       "224       480      1712                  NaN  \n",
       "225        99       247                  NaN  \n",
       "226       641      1859                  NaN  \n",
       "227      1128      2290                  NaN  \n",
       "228       325       409                  NaN  \n",
       "229        67       201                  NaN  "
      ]
     },
     "execution_count": 83,
     "metadata": {},
     "output_type": "execute_result"
    }
   ],
   "source": [
    "df[(df['Year']== 2015) & (df['Ratings']>5)]"
   ]
  },
  {
   "cell_type": "markdown",
   "id": "1f6710e0-fdfe-4426-8dc5-5a4ead2ddc12",
   "metadata": {},
   "source": [
    "(16) Subset your DataFrame based on three different conditions (in this case, the condition will only output the movies that were released in 2015 with ratings greater tham 5 and have only one sequel)"
   ]
  },
  {
   "cell_type": "code",
   "execution_count": 84,
   "id": "6a62159a-0fa5-49ff-b77e-16c90728d8ea",
   "metadata": {},
   "outputs": [
    {
     "data": {
      "text/html": [
       "<div>\n",
       "<style scoped>\n",
       "    .dataframe tbody tr th:only-of-type {\n",
       "        vertical-align: middle;\n",
       "    }\n",
       "\n",
       "    .dataframe tbody tr th {\n",
       "        vertical-align: top;\n",
       "    }\n",
       "\n",
       "    .dataframe thead th {\n",
       "        text-align: right;\n",
       "    }\n",
       "</style>\n",
       "<table border=\"1\" class=\"dataframe\">\n",
       "  <thead>\n",
       "    <tr style=\"text-align: right;\">\n",
       "      <th></th>\n",
       "      <th>Movie</th>\n",
       "      <th>Year</th>\n",
       "      <th>Ratings</th>\n",
       "      <th>Genre</th>\n",
       "      <th>Gross</th>\n",
       "      <th>Budget</th>\n",
       "      <th>Screens</th>\n",
       "      <th>Sequel</th>\n",
       "      <th>Sentiment</th>\n",
       "      <th>Views</th>\n",
       "      <th>Likes</th>\n",
       "      <th>Dislikes</th>\n",
       "      <th>Comments</th>\n",
       "      <th>Aggregate Followers</th>\n",
       "    </tr>\n",
       "  </thead>\n",
       "  <tbody>\n",
       "    <tr>\n",
       "      <th>166</th>\n",
       "      <td>Inside Out</td>\n",
       "      <td>2015</td>\n",
       "      <td>8.6</td>\n",
       "      <td>12</td>\n",
       "      <td>345000000</td>\n",
       "      <td>175000000.0</td>\n",
       "      <td>3946.0</td>\n",
       "      <td>1</td>\n",
       "      <td>2</td>\n",
       "      <td>1438926</td>\n",
       "      <td>4632</td>\n",
       "      <td>262</td>\n",
       "      <td>496</td>\n",
       "      <td>232000.0</td>\n",
       "    </tr>\n",
       "    <tr>\n",
       "      <th>170</th>\n",
       "      <td>Home</td>\n",
       "      <td>2015</td>\n",
       "      <td>6.7</td>\n",
       "      <td>8</td>\n",
       "      <td>177000000</td>\n",
       "      <td>135000000.0</td>\n",
       "      <td>3708.0</td>\n",
       "      <td>1</td>\n",
       "      <td>-2</td>\n",
       "      <td>10341783</td>\n",
       "      <td>24413</td>\n",
       "      <td>1675</td>\n",
       "      <td>3426</td>\n",
       "      <td>5070000.0</td>\n",
       "    </tr>\n",
       "    <tr>\n",
       "      <th>173</th>\n",
       "      <td>San Andreas</td>\n",
       "      <td>2015</td>\n",
       "      <td>6.4</td>\n",
       "      <td>1</td>\n",
       "      <td>154000000</td>\n",
       "      <td>110000000.0</td>\n",
       "      <td>3777.0</td>\n",
       "      <td>1</td>\n",
       "      <td>3</td>\n",
       "      <td>12632836</td>\n",
       "      <td>36508</td>\n",
       "      <td>2210</td>\n",
       "      <td>7559</td>\n",
       "      <td>9737600.0</td>\n",
       "    </tr>\n",
       "    <tr>\n",
       "      <th>175</th>\n",
       "      <td>Straight Outta Compton</td>\n",
       "      <td>2015</td>\n",
       "      <td>8.3</td>\n",
       "      <td>9</td>\n",
       "      <td>135000000</td>\n",
       "      <td>28000000.0</td>\n",
       "      <td>2757.0</td>\n",
       "      <td>1</td>\n",
       "      <td>5</td>\n",
       "      <td>848970</td>\n",
       "      <td>12607</td>\n",
       "      <td>237</td>\n",
       "      <td>1560</td>\n",
       "      <td>55618.0</td>\n",
       "    </tr>\n",
       "    <tr>\n",
       "      <th>177</th>\n",
       "      <td>Spy</td>\n",
       "      <td>2015</td>\n",
       "      <td>7.3</td>\n",
       "      <td>1</td>\n",
       "      <td>110000000</td>\n",
       "      <td>65000000.0</td>\n",
       "      <td>3711.0</td>\n",
       "      <td>1</td>\n",
       "      <td>0</td>\n",
       "      <td>6649290</td>\n",
       "      <td>20750</td>\n",
       "      <td>750</td>\n",
       "      <td>1666</td>\n",
       "      <td>265000.0</td>\n",
       "    </tr>\n",
       "    <tr>\n",
       "      <th>178</th>\n",
       "      <td>Trainwreck</td>\n",
       "      <td>2015</td>\n",
       "      <td>6.7</td>\n",
       "      <td>12</td>\n",
       "      <td>105000000</td>\n",
       "      <td>35000000.0</td>\n",
       "      <td>3158.0</td>\n",
       "      <td>1</td>\n",
       "      <td>1</td>\n",
       "      <td>9511288</td>\n",
       "      <td>19903</td>\n",
       "      <td>2581</td>\n",
       "      <td>2955</td>\n",
       "      <td>2014000.0</td>\n",
       "    </tr>\n",
       "    <tr>\n",
       "      <th>179</th>\n",
       "      <td>Tomorrowland</td>\n",
       "      <td>2015</td>\n",
       "      <td>6.6</td>\n",
       "      <td>12</td>\n",
       "      <td>93200000</td>\n",
       "      <td>190000000.0</td>\n",
       "      <td>3972.0</td>\n",
       "      <td>1</td>\n",
       "      <td>1</td>\n",
       "      <td>999867</td>\n",
       "      <td>4212</td>\n",
       "      <td>66</td>\n",
       "      <td>250</td>\n",
       "      <td>1198000.0</td>\n",
       "    </tr>\n",
       "    <tr>\n",
       "      <th>180</th>\n",
       "      <td>Get Hard</td>\n",
       "      <td>2015</td>\n",
       "      <td>6.1</td>\n",
       "      <td>8</td>\n",
       "      <td>90400000</td>\n",
       "      <td>40000000.0</td>\n",
       "      <td>3175.0</td>\n",
       "      <td>1</td>\n",
       "      <td>6</td>\n",
       "      <td>10078326</td>\n",
       "      <td>26565</td>\n",
       "      <td>1418</td>\n",
       "      <td>2395</td>\n",
       "      <td>2939000.0</td>\n",
       "    </tr>\n",
       "    <tr>\n",
       "      <th>184</th>\n",
       "      <td>Pixels</td>\n",
       "      <td>2015</td>\n",
       "      <td>5.6</td>\n",
       "      <td>1</td>\n",
       "      <td>71000000</td>\n",
       "      <td>88000000.0</td>\n",
       "      <td>3723.0</td>\n",
       "      <td>1</td>\n",
       "      <td>10</td>\n",
       "      <td>5340100</td>\n",
       "      <td>26134</td>\n",
       "      <td>2007</td>\n",
       "      <td>3717</td>\n",
       "      <td>2466000.0</td>\n",
       "    </tr>\n",
       "    <tr>\n",
       "      <th>186</th>\n",
       "      <td>The Wedding Ringer</td>\n",
       "      <td>2015</td>\n",
       "      <td>6.7</td>\n",
       "      <td>8</td>\n",
       "      <td>64500000</td>\n",
       "      <td>23000000.0</td>\n",
       "      <td>3003.0</td>\n",
       "      <td>1</td>\n",
       "      <td>-8</td>\n",
       "      <td>4826940</td>\n",
       "      <td>10521</td>\n",
       "      <td>478</td>\n",
       "      <td>755</td>\n",
       "      <td>2284000.0</td>\n",
       "    </tr>\n",
       "    <tr>\n",
       "      <th>190</th>\n",
       "      <td>Jupiter Ascending</td>\n",
       "      <td>2015</td>\n",
       "      <td>5.5</td>\n",
       "      <td>1</td>\n",
       "      <td>47400000</td>\n",
       "      <td>176000000.0</td>\n",
       "      <td>3181.0</td>\n",
       "      <td>1</td>\n",
       "      <td>0</td>\n",
       "      <td>3920842</td>\n",
       "      <td>10535</td>\n",
       "      <td>565</td>\n",
       "      <td>1668</td>\n",
       "      <td>7460000.0</td>\n",
       "    </tr>\n",
       "    <tr>\n",
       "      <th>191</th>\n",
       "      <td>The Age of Adaline</td>\n",
       "      <td>2015</td>\n",
       "      <td>7.3</td>\n",
       "      <td>3</td>\n",
       "      <td>42500000</td>\n",
       "      <td>25000000.0</td>\n",
       "      <td>2991.0</td>\n",
       "      <td>1</td>\n",
       "      <td>11</td>\n",
       "      <td>11036701</td>\n",
       "      <td>50002</td>\n",
       "      <td>1005</td>\n",
       "      <td>3525</td>\n",
       "      <td>776000.0</td>\n",
       "    </tr>\n",
       "    <tr>\n",
       "      <th>192</th>\n",
       "      <td>Max</td>\n",
       "      <td>2015</td>\n",
       "      <td>7.0</td>\n",
       "      <td>1</td>\n",
       "      <td>41900000</td>\n",
       "      <td>20000000.0</td>\n",
       "      <td>2855.0</td>\n",
       "      <td>1</td>\n",
       "      <td>0</td>\n",
       "      <td>2947239</td>\n",
       "      <td>19201</td>\n",
       "      <td>625</td>\n",
       "      <td>1842</td>\n",
       "      <td>2113.0</td>\n",
       "    </tr>\n",
       "    <tr>\n",
       "      <th>193</th>\n",
       "      <td>The Longest Ride</td>\n",
       "      <td>2015</td>\n",
       "      <td>7.2</td>\n",
       "      <td>3</td>\n",
       "      <td>37400000</td>\n",
       "      <td>34000000.0</td>\n",
       "      <td>3366.0</td>\n",
       "      <td>1</td>\n",
       "      <td>19</td>\n",
       "      <td>2393017</td>\n",
       "      <td>13291</td>\n",
       "      <td>369</td>\n",
       "      <td>584</td>\n",
       "      <td>324925.0</td>\n",
       "    </tr>\n",
       "    <tr>\n",
       "      <th>194</th>\n",
       "      <td>The Gift</td>\n",
       "      <td>2015</td>\n",
       "      <td>7.6</td>\n",
       "      <td>1</td>\n",
       "      <td>36100000</td>\n",
       "      <td>5000000.0</td>\n",
       "      <td>1648.0</td>\n",
       "      <td>1</td>\n",
       "      <td>11</td>\n",
       "      <td>2513544</td>\n",
       "      <td>6970</td>\n",
       "      <td>270</td>\n",
       "      <td>1105</td>\n",
       "      <td>1655987.0</td>\n",
       "    </tr>\n",
       "    <tr>\n",
       "      <th>197</th>\n",
       "      <td>The DUFF</td>\n",
       "      <td>2015</td>\n",
       "      <td>6.6</td>\n",
       "      <td>8</td>\n",
       "      <td>34000000</td>\n",
       "      <td>8500000.0</td>\n",
       "      <td>2575.0</td>\n",
       "      <td>1</td>\n",
       "      <td>2</td>\n",
       "      <td>12792898</td>\n",
       "      <td>56001</td>\n",
       "      <td>2083</td>\n",
       "      <td>4102</td>\n",
       "      <td>6714000.0</td>\n",
       "    </tr>\n",
       "    <tr>\n",
       "      <th>198</th>\n",
       "      <td>Woman in Gold</td>\n",
       "      <td>2015</td>\n",
       "      <td>7.4</td>\n",
       "      <td>10</td>\n",
       "      <td>33300000</td>\n",
       "      <td>11000000.0</td>\n",
       "      <td>258.0</td>\n",
       "      <td>1</td>\n",
       "      <td>19</td>\n",
       "      <td>6495</td>\n",
       "      <td>82</td>\n",
       "      <td>3</td>\n",
       "      <td>7</td>\n",
       "      <td>675000.0</td>\n",
       "    </tr>\n",
       "    <tr>\n",
       "      <th>199</th>\n",
       "      <td>Entourage</td>\n",
       "      <td>2015</td>\n",
       "      <td>7.1</td>\n",
       "      <td>3</td>\n",
       "      <td>32400000</td>\n",
       "      <td>30000000.0</td>\n",
       "      <td>3108.0</td>\n",
       "      <td>1</td>\n",
       "      <td>6</td>\n",
       "      <td>1841293</td>\n",
       "      <td>5879</td>\n",
       "      <td>314</td>\n",
       "      <td>634</td>\n",
       "      <td>788000.0</td>\n",
       "    </tr>\n",
       "    <tr>\n",
       "      <th>200</th>\n",
       "      <td>Paper Towns</td>\n",
       "      <td>2015</td>\n",
       "      <td>6.9</td>\n",
       "      <td>3</td>\n",
       "      <td>31400000</td>\n",
       "      <td>12000000.0</td>\n",
       "      <td>3031.0</td>\n",
       "      <td>1</td>\n",
       "      <td>6</td>\n",
       "      <td>2854910</td>\n",
       "      <td>23254</td>\n",
       "      <td>459</td>\n",
       "      <td>1087</td>\n",
       "      <td>4184000.0</td>\n",
       "    </tr>\n",
       "    <tr>\n",
       "      <th>201</th>\n",
       "      <td>The Lazarus Effect</td>\n",
       "      <td>2015</td>\n",
       "      <td>5.2</td>\n",
       "      <td>8</td>\n",
       "      <td>25800000</td>\n",
       "      <td>3300000.0</td>\n",
       "      <td>2666.0</td>\n",
       "      <td>1</td>\n",
       "      <td>7</td>\n",
       "      <td>4442147</td>\n",
       "      <td>10605</td>\n",
       "      <td>691</td>\n",
       "      <td>2739</td>\n",
       "      <td>2007000.0</td>\n",
       "    </tr>\n",
       "    <tr>\n",
       "      <th>203</th>\n",
       "      <td>Ricki and the Flash</td>\n",
       "      <td>2015</td>\n",
       "      <td>6.1</td>\n",
       "      <td>3</td>\n",
       "      <td>23500000</td>\n",
       "      <td>18000000.0</td>\n",
       "      <td>1603.0</td>\n",
       "      <td>1</td>\n",
       "      <td>25</td>\n",
       "      <td>638374</td>\n",
       "      <td>4018</td>\n",
       "      <td>130</td>\n",
       "      <td>269</td>\n",
       "      <td>1887.0</td>\n",
       "    </tr>\n",
       "    <tr>\n",
       "      <th>204</th>\n",
       "      <td>Project Almanac</td>\n",
       "      <td>2015</td>\n",
       "      <td>6.4</td>\n",
       "      <td>8</td>\n",
       "      <td>22300000</td>\n",
       "      <td>12000000.0</td>\n",
       "      <td>2893.0</td>\n",
       "      <td>1</td>\n",
       "      <td>7</td>\n",
       "      <td>6646785</td>\n",
       "      <td>16041</td>\n",
       "      <td>955</td>\n",
       "      <td>2787</td>\n",
       "      <td>253499.0</td>\n",
       "    </tr>\n",
       "    <tr>\n",
       "      <th>205</th>\n",
       "      <td>Hitman: Agent 47</td>\n",
       "      <td>2015</td>\n",
       "      <td>5.9</td>\n",
       "      <td>8</td>\n",
       "      <td>16100000</td>\n",
       "      <td>35000000.0</td>\n",
       "      <td>3261.0</td>\n",
       "      <td>1</td>\n",
       "      <td>10</td>\n",
       "      <td>13154873</td>\n",
       "      <td>46684</td>\n",
       "      <td>3565</td>\n",
       "      <td>8578</td>\n",
       "      <td>209000.0</td>\n",
       "    </tr>\n",
       "    <tr>\n",
       "      <th>206</th>\n",
       "      <td>Dope</td>\n",
       "      <td>2015</td>\n",
       "      <td>7.5</td>\n",
       "      <td>8</td>\n",
       "      <td>16800000</td>\n",
       "      <td>700000.0</td>\n",
       "      <td>2002.0</td>\n",
       "      <td>1</td>\n",
       "      <td>2</td>\n",
       "      <td>50444</td>\n",
       "      <td>238</td>\n",
       "      <td>3</td>\n",
       "      <td>28</td>\n",
       "      <td>986572.0</td>\n",
       "    </tr>\n",
       "    <tr>\n",
       "      <th>208</th>\n",
       "      <td>American Ultra</td>\n",
       "      <td>2015</td>\n",
       "      <td>6.5</td>\n",
       "      <td>1</td>\n",
       "      <td>10900000</td>\n",
       "      <td>28000000.0</td>\n",
       "      <td>2778.0</td>\n",
       "      <td>1</td>\n",
       "      <td>21</td>\n",
       "      <td>2996539</td>\n",
       "      <td>1874</td>\n",
       "      <td>32</td>\n",
       "      <td>189</td>\n",
       "      <td>155000.0</td>\n",
       "    </tr>\n",
       "    <tr>\n",
       "      <th>209</th>\n",
       "      <td>The Gunman</td>\n",
       "      <td>2015</td>\n",
       "      <td>5.8</td>\n",
       "      <td>8</td>\n",
       "      <td>10600000</td>\n",
       "      <td>40000000.0</td>\n",
       "      <td>2816.0</td>\n",
       "      <td>1</td>\n",
       "      <td>3</td>\n",
       "      <td>3098749</td>\n",
       "      <td>4311</td>\n",
       "      <td>341</td>\n",
       "      <td>881</td>\n",
       "      <td>1520000.0</td>\n",
       "    </tr>\n",
       "    <tr>\n",
       "      <th>210</th>\n",
       "      <td>Mortdecai</td>\n",
       "      <td>2015</td>\n",
       "      <td>5.5</td>\n",
       "      <td>8</td>\n",
       "      <td>7610000</td>\n",
       "      <td>60000000.0</td>\n",
       "      <td>2648.0</td>\n",
       "      <td>1</td>\n",
       "      <td>-2</td>\n",
       "      <td>3850758</td>\n",
       "      <td>13363</td>\n",
       "      <td>453</td>\n",
       "      <td>1276</td>\n",
       "      <td>3045000.0</td>\n",
       "    </tr>\n",
       "    <tr>\n",
       "      <th>211</th>\n",
       "      <td>Blackhat</td>\n",
       "      <td>2015</td>\n",
       "      <td>5.4</td>\n",
       "      <td>3</td>\n",
       "      <td>7100000</td>\n",
       "      <td>70000000.0</td>\n",
       "      <td>2567.0</td>\n",
       "      <td>1</td>\n",
       "      <td>4</td>\n",
       "      <td>2409338</td>\n",
       "      <td>6923</td>\n",
       "      <td>340</td>\n",
       "      <td>714</td>\n",
       "      <td>1334000.0</td>\n",
       "    </tr>\n",
       "    <tr>\n",
       "      <th>212</th>\n",
       "      <td>Me and Earl and the Dying Girl</td>\n",
       "      <td>2015</td>\n",
       "      <td>8.2</td>\n",
       "      <td>8</td>\n",
       "      <td>6740000</td>\n",
       "      <td>8000000.0</td>\n",
       "      <td>34.0</td>\n",
       "      <td>1</td>\n",
       "      <td>15</td>\n",
       "      <td>4032265</td>\n",
       "      <td>18398</td>\n",
       "      <td>302</td>\n",
       "      <td>1298</td>\n",
       "      <td>2208.0</td>\n",
       "    </tr>\n",
       "    <tr>\n",
       "      <th>214</th>\n",
       "      <td>Maggie</td>\n",
       "      <td>2015</td>\n",
       "      <td>5.6</td>\n",
       "      <td>3</td>\n",
       "      <td>131000</td>\n",
       "      <td>4500000.0</td>\n",
       "      <td>79.0</td>\n",
       "      <td>1</td>\n",
       "      <td>10</td>\n",
       "      <td>5085068</td>\n",
       "      <td>14359</td>\n",
       "      <td>600</td>\n",
       "      <td>2468</td>\n",
       "      <td>3744000.0</td>\n",
       "    </tr>\n",
       "    <tr>\n",
       "      <th>215</th>\n",
       "      <td>Americons</td>\n",
       "      <td>2015</td>\n",
       "      <td>7.3</td>\n",
       "      <td>3</td>\n",
       "      <td>129000</td>\n",
       "      <td>4000000.0</td>\n",
       "      <td>14.0</td>\n",
       "      <td>1</td>\n",
       "      <td>0</td>\n",
       "      <td>63724</td>\n",
       "      <td>115</td>\n",
       "      <td>28</td>\n",
       "      <td>14</td>\n",
       "      <td>129000.0</td>\n",
       "    </tr>\n",
       "    <tr>\n",
       "      <th>216</th>\n",
       "      <td>Road Hard</td>\n",
       "      <td>2015</td>\n",
       "      <td>6.3</td>\n",
       "      <td>3</td>\n",
       "      <td>106000</td>\n",
       "      <td>1500000.0</td>\n",
       "      <td>22.0</td>\n",
       "      <td>1</td>\n",
       "      <td>14</td>\n",
       "      <td>44963</td>\n",
       "      <td>109</td>\n",
       "      <td>27</td>\n",
       "      <td>42</td>\n",
       "      <td>1188000.0</td>\n",
       "    </tr>\n",
       "    <tr>\n",
       "      <th>217</th>\n",
       "      <td>Ant-Man</td>\n",
       "      <td>2015</td>\n",
       "      <td>7.8</td>\n",
       "      <td>1</td>\n",
       "      <td>169000000</td>\n",
       "      <td>130000000.0</td>\n",
       "      <td>3856.0</td>\n",
       "      <td>1</td>\n",
       "      <td>18</td>\n",
       "      <td>9597644</td>\n",
       "      <td>32558</td>\n",
       "      <td>2672</td>\n",
       "      <td>8359</td>\n",
       "      <td>NaN</td>\n",
       "    </tr>\n",
       "    <tr>\n",
       "      <th>218</th>\n",
       "      <td>Southpaw</td>\n",
       "      <td>2015</td>\n",
       "      <td>7.7</td>\n",
       "      <td>1</td>\n",
       "      <td>49500000</td>\n",
       "      <td>30000000.0</td>\n",
       "      <td>2772.0</td>\n",
       "      <td>1</td>\n",
       "      <td>6</td>\n",
       "      <td>11476882</td>\n",
       "      <td>40496</td>\n",
       "      <td>1383</td>\n",
       "      <td>4435</td>\n",
       "      <td>NaN</td>\n",
       "    </tr>\n",
       "    <tr>\n",
       "      <th>219</th>\n",
       "      <td>Ex Machina</td>\n",
       "      <td>2015</td>\n",
       "      <td>7.7</td>\n",
       "      <td>3</td>\n",
       "      <td>25400000</td>\n",
       "      <td>15000000.0</td>\n",
       "      <td>1255.0</td>\n",
       "      <td>1</td>\n",
       "      <td>3</td>\n",
       "      <td>419470</td>\n",
       "      <td>2218</td>\n",
       "      <td>46</td>\n",
       "      <td>239</td>\n",
       "      <td>NaN</td>\n",
       "    </tr>\n",
       "    <tr>\n",
       "      <th>220</th>\n",
       "      <td>The Man from U.N.C.L.E.</td>\n",
       "      <td>2015</td>\n",
       "      <td>7.6</td>\n",
       "      <td>6</td>\n",
       "      <td>34600000</td>\n",
       "      <td>75000000.0</td>\n",
       "      <td>3638.0</td>\n",
       "      <td>1</td>\n",
       "      <td>8</td>\n",
       "      <td>5216680</td>\n",
       "      <td>20010</td>\n",
       "      <td>500</td>\n",
       "      <td>2300</td>\n",
       "      <td>NaN</td>\n",
       "    </tr>\n",
       "    <tr>\n",
       "      <th>221</th>\n",
       "      <td>Cinderella</td>\n",
       "      <td>2015</td>\n",
       "      <td>7.1</td>\n",
       "      <td>8</td>\n",
       "      <td>201000000</td>\n",
       "      <td>95000000.0</td>\n",
       "      <td>3845.0</td>\n",
       "      <td>1</td>\n",
       "      <td>2</td>\n",
       "      <td>10164908</td>\n",
       "      <td>22726</td>\n",
       "      <td>4245</td>\n",
       "      <td>5262</td>\n",
       "      <td>NaN</td>\n",
       "    </tr>\n",
       "    <tr>\n",
       "      <th>222</th>\n",
       "      <td>Chappie</td>\n",
       "      <td>2015</td>\n",
       "      <td>7.0</td>\n",
       "      <td>1</td>\n",
       "      <td>31600000</td>\n",
       "      <td>49000000.0</td>\n",
       "      <td>3201.0</td>\n",
       "      <td>1</td>\n",
       "      <td>8</td>\n",
       "      <td>7384182</td>\n",
       "      <td>23597</td>\n",
       "      <td>786</td>\n",
       "      <td>3481</td>\n",
       "      <td>NaN</td>\n",
       "    </tr>\n",
       "    <tr>\n",
       "      <th>223</th>\n",
       "      <td>Brotherly Love</td>\n",
       "      <td>2015</td>\n",
       "      <td>6.9</td>\n",
       "      <td>8</td>\n",
       "      <td>444000</td>\n",
       "      <td>1900000.0</td>\n",
       "      <td>200.0</td>\n",
       "      <td>1</td>\n",
       "      <td>0</td>\n",
       "      <td>890619</td>\n",
       "      <td>6352</td>\n",
       "      <td>293</td>\n",
       "      <td>700</td>\n",
       "      <td>NaN</td>\n",
       "    </tr>\n",
       "    <tr>\n",
       "      <th>224</th>\n",
       "      <td>Run All Night</td>\n",
       "      <td>2015</td>\n",
       "      <td>6.6</td>\n",
       "      <td>8</td>\n",
       "      <td>26400000</td>\n",
       "      <td>50000000.0</td>\n",
       "      <td>3171.0</td>\n",
       "      <td>1</td>\n",
       "      <td>3</td>\n",
       "      <td>5671767</td>\n",
       "      <td>10073</td>\n",
       "      <td>480</td>\n",
       "      <td>1712</td>\n",
       "      <td>NaN</td>\n",
       "    </tr>\n",
       "    <tr>\n",
       "      <th>226</th>\n",
       "      <td>Child 44</td>\n",
       "      <td>2015</td>\n",
       "      <td>6.4</td>\n",
       "      <td>4</td>\n",
       "      <td>1210000</td>\n",
       "      <td>50000000.0</td>\n",
       "      <td>66.0</td>\n",
       "      <td>1</td>\n",
       "      <td>4</td>\n",
       "      <td>3701061</td>\n",
       "      <td>9325</td>\n",
       "      <td>641</td>\n",
       "      <td>1859</td>\n",
       "      <td>NaN</td>\n",
       "    </tr>\n",
       "    <tr>\n",
       "      <th>227</th>\n",
       "      <td>Aloha</td>\n",
       "      <td>2015</td>\n",
       "      <td>5.5</td>\n",
       "      <td>15</td>\n",
       "      <td>21000000</td>\n",
       "      <td>37000000.0</td>\n",
       "      <td>2815.0</td>\n",
       "      <td>1</td>\n",
       "      <td>13</td>\n",
       "      <td>7119456</td>\n",
       "      <td>18803</td>\n",
       "      <td>1128</td>\n",
       "      <td>2290</td>\n",
       "      <td>NaN</td>\n",
       "    </tr>\n",
       "    <tr>\n",
       "      <th>228</th>\n",
       "      <td>Unfinished Business</td>\n",
       "      <td>2015</td>\n",
       "      <td>5.4</td>\n",
       "      <td>8</td>\n",
       "      <td>10200000</td>\n",
       "      <td>35000000.0</td>\n",
       "      <td>2777.0</td>\n",
       "      <td>1</td>\n",
       "      <td>7</td>\n",
       "      <td>3450614</td>\n",
       "      <td>6823</td>\n",
       "      <td>325</td>\n",
       "      <td>409</td>\n",
       "      <td>NaN</td>\n",
       "    </tr>\n",
       "    <tr>\n",
       "      <th>229</th>\n",
       "      <td>War Room</td>\n",
       "      <td>2015</td>\n",
       "      <td>5.4</td>\n",
       "      <td>1</td>\n",
       "      <td>12300000</td>\n",
       "      <td>3000000.0</td>\n",
       "      <td>NaN</td>\n",
       "      <td>1</td>\n",
       "      <td>10</td>\n",
       "      <td>66872</td>\n",
       "      <td>400</td>\n",
       "      <td>67</td>\n",
       "      <td>201</td>\n",
       "      <td>NaN</td>\n",
       "    </tr>\n",
       "  </tbody>\n",
       "</table>\n",
       "</div>"
      ],
      "text/plain": [
       "                              Movie  Year  Ratings  Genre      Gross  \\\n",
       "166                      Inside Out  2015      8.6     12  345000000   \n",
       "170                            Home  2015      6.7      8  177000000   \n",
       "173                     San Andreas  2015      6.4      1  154000000   \n",
       "175          Straight Outta Compton  2015      8.3      9  135000000   \n",
       "177                             Spy  2015      7.3      1  110000000   \n",
       "178                      Trainwreck  2015      6.7     12  105000000   \n",
       "179                    Tomorrowland  2015      6.6     12   93200000   \n",
       "180                        Get Hard  2015      6.1      8   90400000   \n",
       "184                          Pixels  2015      5.6      1   71000000   \n",
       "186              The Wedding Ringer  2015      6.7      8   64500000   \n",
       "190               Jupiter Ascending  2015      5.5      1   47400000   \n",
       "191              The Age of Adaline  2015      7.3      3   42500000   \n",
       "192                             Max  2015      7.0      1   41900000   \n",
       "193                The Longest Ride  2015      7.2      3   37400000   \n",
       "194                        The Gift  2015      7.6      1   36100000   \n",
       "197                        The DUFF  2015      6.6      8   34000000   \n",
       "198                   Woman in Gold  2015      7.4     10   33300000   \n",
       "199                       Entourage  2015      7.1      3   32400000   \n",
       "200                     Paper Towns  2015      6.9      3   31400000   \n",
       "201              The Lazarus Effect  2015      5.2      8   25800000   \n",
       "203             Ricki and the Flash  2015      6.1      3   23500000   \n",
       "204                 Project Almanac  2015      6.4      8   22300000   \n",
       "205                Hitman: Agent 47  2015      5.9      8   16100000   \n",
       "206                            Dope  2015      7.5      8   16800000   \n",
       "208                  American Ultra  2015      6.5      1   10900000   \n",
       "209                      The Gunman  2015      5.8      8   10600000   \n",
       "210                       Mortdecai  2015      5.5      8    7610000   \n",
       "211                        Blackhat  2015      5.4      3    7100000   \n",
       "212  Me and Earl and the Dying Girl  2015      8.2      8    6740000   \n",
       "214                          Maggie  2015      5.6      3     131000   \n",
       "215                       Americons  2015      7.3      3     129000   \n",
       "216                       Road Hard  2015      6.3      3     106000   \n",
       "217                         Ant-Man  2015      7.8      1  169000000   \n",
       "218                        Southpaw  2015      7.7      1   49500000   \n",
       "219                      Ex Machina  2015      7.7      3   25400000   \n",
       "220         The Man from U.N.C.L.E.  2015      7.6      6   34600000   \n",
       "221                      Cinderella  2015      7.1      8  201000000   \n",
       "222                         Chappie  2015      7.0      1   31600000   \n",
       "223                  Brotherly Love  2015      6.9      8     444000   \n",
       "224                   Run All Night  2015      6.6      8   26400000   \n",
       "226                        Child 44  2015      6.4      4    1210000   \n",
       "227                           Aloha  2015      5.5     15   21000000   \n",
       "228             Unfinished Business  2015      5.4      8   10200000   \n",
       "229                        War Room  2015      5.4      1   12300000   \n",
       "\n",
       "          Budget  Screens  Sequel  Sentiment     Views  Likes  Dislikes  \\\n",
       "166  175000000.0   3946.0       1          2   1438926   4632       262   \n",
       "170  135000000.0   3708.0       1         -2  10341783  24413      1675   \n",
       "173  110000000.0   3777.0       1          3  12632836  36508      2210   \n",
       "175   28000000.0   2757.0       1          5    848970  12607       237   \n",
       "177   65000000.0   3711.0       1          0   6649290  20750       750   \n",
       "178   35000000.0   3158.0       1          1   9511288  19903      2581   \n",
       "179  190000000.0   3972.0       1          1    999867   4212        66   \n",
       "180   40000000.0   3175.0       1          6  10078326  26565      1418   \n",
       "184   88000000.0   3723.0       1         10   5340100  26134      2007   \n",
       "186   23000000.0   3003.0       1         -8   4826940  10521       478   \n",
       "190  176000000.0   3181.0       1          0   3920842  10535       565   \n",
       "191   25000000.0   2991.0       1         11  11036701  50002      1005   \n",
       "192   20000000.0   2855.0       1          0   2947239  19201       625   \n",
       "193   34000000.0   3366.0       1         19   2393017  13291       369   \n",
       "194    5000000.0   1648.0       1         11   2513544   6970       270   \n",
       "197    8500000.0   2575.0       1          2  12792898  56001      2083   \n",
       "198   11000000.0    258.0       1         19      6495     82         3   \n",
       "199   30000000.0   3108.0       1          6   1841293   5879       314   \n",
       "200   12000000.0   3031.0       1          6   2854910  23254       459   \n",
       "201    3300000.0   2666.0       1          7   4442147  10605       691   \n",
       "203   18000000.0   1603.0       1         25    638374   4018       130   \n",
       "204   12000000.0   2893.0       1          7   6646785  16041       955   \n",
       "205   35000000.0   3261.0       1         10  13154873  46684      3565   \n",
       "206     700000.0   2002.0       1          2     50444    238         3   \n",
       "208   28000000.0   2778.0       1         21   2996539   1874        32   \n",
       "209   40000000.0   2816.0       1          3   3098749   4311       341   \n",
       "210   60000000.0   2648.0       1         -2   3850758  13363       453   \n",
       "211   70000000.0   2567.0       1          4   2409338   6923       340   \n",
       "212    8000000.0     34.0       1         15   4032265  18398       302   \n",
       "214    4500000.0     79.0       1         10   5085068  14359       600   \n",
       "215    4000000.0     14.0       1          0     63724    115        28   \n",
       "216    1500000.0     22.0       1         14     44963    109        27   \n",
       "217  130000000.0   3856.0       1         18   9597644  32558      2672   \n",
       "218   30000000.0   2772.0       1          6  11476882  40496      1383   \n",
       "219   15000000.0   1255.0       1          3    419470   2218        46   \n",
       "220   75000000.0   3638.0       1          8   5216680  20010       500   \n",
       "221   95000000.0   3845.0       1          2  10164908  22726      4245   \n",
       "222   49000000.0   3201.0       1          8   7384182  23597       786   \n",
       "223    1900000.0    200.0       1          0    890619   6352       293   \n",
       "224   50000000.0   3171.0       1          3   5671767  10073       480   \n",
       "226   50000000.0     66.0       1          4   3701061   9325       641   \n",
       "227   37000000.0   2815.0       1         13   7119456  18803      1128   \n",
       "228   35000000.0   2777.0       1          7   3450614   6823       325   \n",
       "229    3000000.0      NaN       1         10     66872    400        67   \n",
       "\n",
       "     Comments  Aggregate Followers  \n",
       "166       496             232000.0  \n",
       "170      3426            5070000.0  \n",
       "173      7559            9737600.0  \n",
       "175      1560              55618.0  \n",
       "177      1666             265000.0  \n",
       "178      2955            2014000.0  \n",
       "179       250            1198000.0  \n",
       "180      2395            2939000.0  \n",
       "184      3717            2466000.0  \n",
       "186       755            2284000.0  \n",
       "190      1668            7460000.0  \n",
       "191      3525             776000.0  \n",
       "192      1842               2113.0  \n",
       "193       584             324925.0  \n",
       "194      1105            1655987.0  \n",
       "197      4102            6714000.0  \n",
       "198         7             675000.0  \n",
       "199       634             788000.0  \n",
       "200      1087            4184000.0  \n",
       "201      2739            2007000.0  \n",
       "203       269               1887.0  \n",
       "204      2787             253499.0  \n",
       "205      8578             209000.0  \n",
       "206        28             986572.0  \n",
       "208       189             155000.0  \n",
       "209       881            1520000.0  \n",
       "210      1276            3045000.0  \n",
       "211       714            1334000.0  \n",
       "212      1298               2208.0  \n",
       "214      2468            3744000.0  \n",
       "215        14             129000.0  \n",
       "216        42            1188000.0  \n",
       "217      8359                  NaN  \n",
       "218      4435                  NaN  \n",
       "219       239                  NaN  \n",
       "220      2300                  NaN  \n",
       "221      5262                  NaN  \n",
       "222      3481                  NaN  \n",
       "223       700                  NaN  \n",
       "224      1712                  NaN  \n",
       "226      1859                  NaN  \n",
       "227      2290                  NaN  \n",
       "228       409                  NaN  \n",
       "229       201                  NaN  "
      ]
     },
     "execution_count": 84,
     "metadata": {},
     "output_type": "execute_result"
    }
   ],
   "source": [
    "df[(df['Year']== 2015) & (df['Ratings']>5) & (df['Sequel']<2) ]"
   ]
  },
  {
   "cell_type": "markdown",
   "id": "6d4341cf-4dbc-459a-8bc8-a78b81529650",
   "metadata": {},
   "source": [
    "(17) Use loc to slice your DataFrame for the 2 columns that returned the largest sum"
   ]
  },
  {
   "cell_type": "code",
   "execution_count": 102,
   "id": "45ece372-fead-4a9a-a557-cd05252aa42b",
   "metadata": {},
   "outputs": [
    {
     "data": {
      "text/html": [
       "<div>\n",
       "<style scoped>\n",
       "    .dataframe tbody tr th:only-of-type {\n",
       "        vertical-align: middle;\n",
       "    }\n",
       "\n",
       "    .dataframe tbody tr th {\n",
       "        vertical-align: top;\n",
       "    }\n",
       "\n",
       "    .dataframe thead th {\n",
       "        text-align: right;\n",
       "    }\n",
       "</style>\n",
       "<table border=\"1\" class=\"dataframe\">\n",
       "  <thead>\n",
       "    <tr style=\"text-align: right;\">\n",
       "      <th></th>\n",
       "      <th>Gross</th>\n",
       "      <th>Budget</th>\n",
       "    </tr>\n",
       "  </thead>\n",
       "  <tbody>\n",
       "    <tr>\n",
       "      <th>0</th>\n",
       "      <td>9130</td>\n",
       "      <td>4000000.0</td>\n",
       "    </tr>\n",
       "    <tr>\n",
       "      <th>1</th>\n",
       "      <td>192000000</td>\n",
       "      <td>50000000.0</td>\n",
       "    </tr>\n",
       "    <tr>\n",
       "      <th>2</th>\n",
       "      <td>30700000</td>\n",
       "      <td>28000000.0</td>\n",
       "    </tr>\n",
       "    <tr>\n",
       "      <th>3</th>\n",
       "      <td>106000000</td>\n",
       "      <td>110000000.0</td>\n",
       "    </tr>\n",
       "    <tr>\n",
       "      <th>4</th>\n",
       "      <td>17300000</td>\n",
       "      <td>3500000.0</td>\n",
       "    </tr>\n",
       "    <tr>\n",
       "      <th>...</th>\n",
       "      <td>...</td>\n",
       "      <td>...</td>\n",
       "    </tr>\n",
       "    <tr>\n",
       "      <th>226</th>\n",
       "      <td>1210000</td>\n",
       "      <td>50000000.0</td>\n",
       "    </tr>\n",
       "    <tr>\n",
       "      <th>227</th>\n",
       "      <td>21000000</td>\n",
       "      <td>37000000.0</td>\n",
       "    </tr>\n",
       "    <tr>\n",
       "      <th>228</th>\n",
       "      <td>10200000</td>\n",
       "      <td>35000000.0</td>\n",
       "    </tr>\n",
       "    <tr>\n",
       "      <th>229</th>\n",
       "      <td>12300000</td>\n",
       "      <td>3000000.0</td>\n",
       "    </tr>\n",
       "    <tr>\n",
       "      <th>230</th>\n",
       "      <td>22600000</td>\n",
       "      <td>100000.0</td>\n",
       "    </tr>\n",
       "  </tbody>\n",
       "</table>\n",
       "<p>231 rows × 2 columns</p>\n",
       "</div>"
      ],
      "text/plain": [
       "         Gross       Budget\n",
       "0         9130    4000000.0\n",
       "1    192000000   50000000.0\n",
       "2     30700000   28000000.0\n",
       "3    106000000  110000000.0\n",
       "4     17300000    3500000.0\n",
       "..         ...          ...\n",
       "226    1210000   50000000.0\n",
       "227   21000000   37000000.0\n",
       "228   10200000   35000000.0\n",
       "229   12300000    3000000.0\n",
       "230   22600000     100000.0\n",
       "\n",
       "[231 rows x 2 columns]"
      ]
     },
     "execution_count": 102,
     "metadata": {},
     "output_type": "execute_result"
    }
   ],
   "source": [
    "df.loc[:, [\"Gross\",\"Budget\"]]"
   ]
  },
  {
   "cell_type": "markdown",
   "id": "aec6db2a-311b-4dc6-bf55-d26ce72c0864",
   "metadata": {},
   "source": [
    "(18) Use iloc to slice your DataFrame for the 2 columns that returned the largest mean"
   ]
  },
  {
   "cell_type": "code",
   "execution_count": 103,
   "id": "10d64424-9b99-4e83-9abd-a1aebdadd2c1",
   "metadata": {},
   "outputs": [
    {
     "data": {
      "text/html": [
       "<div>\n",
       "<style scoped>\n",
       "    .dataframe tbody tr th:only-of-type {\n",
       "        vertical-align: middle;\n",
       "    }\n",
       "\n",
       "    .dataframe tbody tr th {\n",
       "        vertical-align: top;\n",
       "    }\n",
       "\n",
       "    .dataframe thead th {\n",
       "        text-align: right;\n",
       "    }\n",
       "</style>\n",
       "<table border=\"1\" class=\"dataframe\">\n",
       "  <thead>\n",
       "    <tr style=\"text-align: right;\">\n",
       "      <th></th>\n",
       "      <th>Gross</th>\n",
       "      <th>Budget</th>\n",
       "    </tr>\n",
       "  </thead>\n",
       "  <tbody>\n",
       "    <tr>\n",
       "      <th>0</th>\n",
       "      <td>9130</td>\n",
       "      <td>4000000.0</td>\n",
       "    </tr>\n",
       "    <tr>\n",
       "      <th>1</th>\n",
       "      <td>192000000</td>\n",
       "      <td>50000000.0</td>\n",
       "    </tr>\n",
       "    <tr>\n",
       "      <th>2</th>\n",
       "      <td>30700000</td>\n",
       "      <td>28000000.0</td>\n",
       "    </tr>\n",
       "    <tr>\n",
       "      <th>3</th>\n",
       "      <td>106000000</td>\n",
       "      <td>110000000.0</td>\n",
       "    </tr>\n",
       "    <tr>\n",
       "      <th>4</th>\n",
       "      <td>17300000</td>\n",
       "      <td>3500000.0</td>\n",
       "    </tr>\n",
       "    <tr>\n",
       "      <th>...</th>\n",
       "      <td>...</td>\n",
       "      <td>...</td>\n",
       "    </tr>\n",
       "    <tr>\n",
       "      <th>226</th>\n",
       "      <td>1210000</td>\n",
       "      <td>50000000.0</td>\n",
       "    </tr>\n",
       "    <tr>\n",
       "      <th>227</th>\n",
       "      <td>21000000</td>\n",
       "      <td>37000000.0</td>\n",
       "    </tr>\n",
       "    <tr>\n",
       "      <th>228</th>\n",
       "      <td>10200000</td>\n",
       "      <td>35000000.0</td>\n",
       "    </tr>\n",
       "    <tr>\n",
       "      <th>229</th>\n",
       "      <td>12300000</td>\n",
       "      <td>3000000.0</td>\n",
       "    </tr>\n",
       "    <tr>\n",
       "      <th>230</th>\n",
       "      <td>22600000</td>\n",
       "      <td>100000.0</td>\n",
       "    </tr>\n",
       "  </tbody>\n",
       "</table>\n",
       "<p>231 rows × 2 columns</p>\n",
       "</div>"
      ],
      "text/plain": [
       "         Gross       Budget\n",
       "0         9130    4000000.0\n",
       "1    192000000   50000000.0\n",
       "2     30700000   28000000.0\n",
       "3    106000000  110000000.0\n",
       "4     17300000    3500000.0\n",
       "..         ...          ...\n",
       "226    1210000   50000000.0\n",
       "227   21000000   37000000.0\n",
       "228   10200000   35000000.0\n",
       "229   12300000    3000000.0\n",
       "230   22600000     100000.0\n",
       "\n",
       "[231 rows x 2 columns]"
      ]
     },
     "execution_count": 103,
     "metadata": {},
     "output_type": "execute_result"
    }
   ],
   "source": [
    "df.iloc[:, [4,5]]"
   ]
  },
  {
   "cell_type": "markdown",
   "id": "a2e81a3e-43e2-43f2-ade7-6c3792cd1efe",
   "metadata": {},
   "source": [
    "(19) Find 2 pandas DataFrame methods we did not cover and use them on your own data.\n",
    "\n",
    "dtypes: Pandas DataFrame.dtypes attribute return the dtypes in the DataFrame. It returns a series with the data type of each column.\n",
    "\n",
    "max: The max() method returns a series with the maximum value of each column.\n",
    "\n",
    "min: The min() method returns a series with the minimum value of each column."
   ]
  },
  {
   "cell_type": "code",
   "execution_count": 107,
   "id": "9aafc6d4-c75d-4398-becf-7f3aa93d1dc6",
   "metadata": {},
   "outputs": [
    {
     "data": {
      "text/plain": [
       "Movie                   object\n",
       "Year                     int64\n",
       "Ratings                float64\n",
       "Genre                    int64\n",
       "Gross                    int64\n",
       "Budget                 float64\n",
       "Screens                float64\n",
       "Sequel                   int64\n",
       "Sentiment                int64\n",
       "Views                    int64\n",
       "Likes                    int64\n",
       "Dislikes                 int64\n",
       "Comments                 int64\n",
       "Aggregate Followers    float64\n",
       "dtype: object"
      ]
     },
     "execution_count": 107,
     "metadata": {},
     "output_type": "execute_result"
    }
   ],
   "source": [
    "df.dtypes"
   ]
  },
  {
   "cell_type": "code",
   "execution_count": 108,
   "id": "bc1b1f5a-d5b9-4286-b0f8-1cd9e5897a0c",
   "metadata": {},
   "outputs": [
    {
     "name": "stdout",
     "output_type": "stream",
     "text": [
      "Movie                  Yves Saint Laurent\n",
      "Year                                 2015\n",
      "Ratings                               8.7\n",
      "Genre                                  15\n",
      "Gross                           643000000\n",
      "Budget                        250000000.0\n",
      "Screens                            4324.0\n",
      "Sequel                                  7\n",
      "Sentiment                              29\n",
      "Views                            32626778\n",
      "Likes                              370552\n",
      "Dislikes                            13960\n",
      "Comments                            38363\n",
      "Aggregate Followers            31030000.0\n",
      "dtype: object\n"
     ]
    }
   ],
   "source": [
    "print(df.max())"
   ]
  },
  {
   "cell_type": "code",
   "execution_count": 109,
   "id": "da696fe9-afc4-48a2-a8a4-b4683076bc78",
   "metadata": {},
   "outputs": [
    {
     "name": "stdout",
     "output_type": "stream",
     "text": [
      "Movie                  13 Sins\n",
      "Year                      2014\n",
      "Ratings                    3.1\n",
      "Genre                        1\n",
      "Gross                     2470\n",
      "Budget                 70000.0\n",
      "Screens                    2.0\n",
      "Sequel                       1\n",
      "Sentiment                  -38\n",
      "Views                      698\n",
      "Likes                        1\n",
      "Dislikes                     0\n",
      "Comments                     0\n",
      "Aggregate Followers     1066.0\n",
      "dtype: object\n"
     ]
    }
   ],
   "source": [
    "print(df.min())"
   ]
  }
 ],
 "metadata": {
  "kernelspec": {
   "display_name": "Python 3 (ipykernel)",
   "language": "python",
   "name": "python3"
  },
  "language_info": {
   "codemirror_mode": {
    "name": "ipython",
    "version": 3
   },
   "file_extension": ".py",
   "mimetype": "text/x-python",
   "name": "python",
   "nbconvert_exporter": "python",
   "pygments_lexer": "ipython3",
   "version": "3.9.12"
  }
 },
 "nbformat": 4,
 "nbformat_minor": 5
}
